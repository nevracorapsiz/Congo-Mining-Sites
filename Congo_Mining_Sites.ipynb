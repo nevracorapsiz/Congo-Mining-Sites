{
 "cells": [
  {
   "cell_type": "code",
   "execution_count": 192,
   "metadata": {},
   "outputs": [],
   "source": [
    "import geopandas\n",
    "import matplotlib.pyplot as plt\n",
    "import contextily\n",
    "from shapely.geometry import Point\n",
    "import rasterio\n",
    "import rasterio.plot\n",
    "import rasterstats"
   ]
  },
  {
   "cell_type": "code",
   "execution_count": 191,
   "metadata": {},
   "outputs": [
    {
     "data": {
      "text/html": [
       "<div>\n",
       "<style scoped>\n",
       "    .dataframe tbody tr th:only-of-type {\n",
       "        vertical-align: middle;\n",
       "    }\n",
       "\n",
       "    .dataframe tbody tr th {\n",
       "        vertical-align: top;\n",
       "    }\n",
       "\n",
       "    .dataframe thead th {\n",
       "        text-align: right;\n",
       "    }\n",
       "</style>\n",
       "<table border=\"1\" class=\"dataframe\">\n",
       "  <thead>\n",
       "    <tr style=\"text-align: right;\">\n",
       "      <th></th>\n",
       "      <th>visit_date</th>\n",
       "      <th>name</th>\n",
       "      <th>n_workers</th>\n",
       "      <th>mineral</th>\n",
       "      <th>geometry</th>\n",
       "    </tr>\n",
       "  </thead>\n",
       "  <tbody>\n",
       "    <tr>\n",
       "      <th>0</th>\n",
       "      <td>2013-03-27</td>\n",
       "      <td>Mayi-Tatu</td>\n",
       "      <td>150.0</td>\n",
       "      <td>Gold</td>\n",
       "      <td>POINT (29.66033 1.01089)</td>\n",
       "    </tr>\n",
       "    <tr>\n",
       "      <th>1</th>\n",
       "      <td>2013-03-27</td>\n",
       "      <td>Mabanga</td>\n",
       "      <td>115.0</td>\n",
       "      <td>Gold</td>\n",
       "      <td>POINT (29.65862 1.00308)</td>\n",
       "    </tr>\n",
       "    <tr>\n",
       "      <th>2</th>\n",
       "      <td>2013-03-27</td>\n",
       "      <td>Molende</td>\n",
       "      <td>130.0</td>\n",
       "      <td>Gold</td>\n",
       "      <td>POINT (29.65629 0.98563)</td>\n",
       "    </tr>\n",
       "    <tr>\n",
       "      <th>3</th>\n",
       "      <td>2013-03-27</td>\n",
       "      <td>Embouchure</td>\n",
       "      <td>135.0</td>\n",
       "      <td>Gold</td>\n",
       "      <td>POINT (29.64494 0.99976)</td>\n",
       "    </tr>\n",
       "    <tr>\n",
       "      <th>4</th>\n",
       "      <td>2013-03-27</td>\n",
       "      <td>Apumu-Atandele-Jerusalem-Luka Yayo</td>\n",
       "      <td>270.0</td>\n",
       "      <td>Gold</td>\n",
       "      <td>POINT (29.66000 0.95600)</td>\n",
       "    </tr>\n",
       "  </tbody>\n",
       "</table>\n",
       "</div>"
      ],
      "text/plain": [
       "   visit_date                                name  n_workers mineral  \\\n",
       "0  2013-03-27                           Mayi-Tatu      150.0    Gold   \n",
       "1  2013-03-27                             Mabanga      115.0    Gold   \n",
       "2  2013-03-27                             Molende      130.0    Gold   \n",
       "3  2013-03-27                          Embouchure      135.0    Gold   \n",
       "4  2013-03-27  Apumu-Atandele-Jerusalem-Luka Yayo      270.0    Gold   \n",
       "\n",
       "                   geometry  \n",
       "0  POINT (29.66033 1.01089)  \n",
       "1  POINT (29.65862 1.00308)  \n",
       "2  POINT (29.65629 0.98563)  \n",
       "3  POINT (29.64494 0.99976)  \n",
       "4  POINT (29.66000 0.95600)  "
      ]
     },
     "execution_count": 191,
     "metadata": {},
     "output_type": "execute_result"
    }
   ],
   "source": [
    "mining_sites = geopandas.read_file(\"D:\\Data\\Mines\\ipis_cod_mines.geojson\")\n",
    "mining_sites.head()"
   ]
  },
  {
   "cell_type": "code",
   "execution_count": 6,
   "metadata": {},
   "outputs": [
    {
     "data": {
      "text/plain": [
       "<Geographic 2D CRS: EPSG:4326>\n",
       "Name: WGS 84\n",
       "Axis Info [ellipsoidal]:\n",
       "- Lat[north]: Geodetic latitude (degree)\n",
       "- Lon[east]: Geodetic longitude (degree)\n",
       "Area of Use:\n",
       "- undefined\n",
       "Datum: World Geodetic System 1984\n",
       "- Ellipsoid: WGS 84\n",
       "- Prime Meridian: Greenwich"
      ]
     },
     "execution_count": 6,
     "metadata": {},
     "output_type": "execute_result"
    }
   ],
   "source": [
    "mining_sites.crs"
   ]
  },
  {
   "cell_type": "code",
   "execution_count": 7,
   "metadata": {},
   "outputs": [
    {
     "data": {
      "text/plain": [
       "<AxesSubplot:>"
      ]
     },
     "execution_count": 7,
     "metadata": {},
     "output_type": "execute_result"
    },
    {
     "data": {
      "image/png": "[encoded data removed]",
      "text/plain": [
       "<Figure size 640x480 with 1 Axes>"
      ]
     },
     "metadata": {},
     "output_type": "display_data"
    }
   ],
   "source": [
    "mining_sites.plot()"
   ]
  },
  {
   "cell_type": "code",
   "execution_count": 10,
   "metadata": {},
   "outputs": [
    {
     "data": {
      "text/html": [
       "<div>\n",
       "<style scoped>\n",
       "    .dataframe tbody tr th:only-of-type {\n",
       "        vertical-align: middle;\n",
       "    }\n",
       "\n",
       "    .dataframe tbody tr th {\n",
       "        vertical-align: top;\n",
       "    }\n",
       "\n",
       "    .dataframe thead th {\n",
       "        text-align: right;\n",
       "    }\n",
       "</style>\n",
       "<table border=\"1\" class=\"dataframe\">\n",
       "  <thead>\n",
       "    <tr style=\"text-align: right;\">\n",
       "      <th></th>\n",
       "      <th>WDPAID</th>\n",
       "      <th>WDPA_PID</th>\n",
       "      <th>PA_DEF</th>\n",
       "      <th>NAME</th>\n",
       "      <th>ORIG_NAME</th>\n",
       "      <th>DESIG</th>\n",
       "      <th>DESIG_ENG</th>\n",
       "      <th>DESIG_TYPE</th>\n",
       "      <th>IUCN_CAT</th>\n",
       "      <th>INT_CRIT</th>\n",
       "      <th>...</th>\n",
       "      <th>GOV_TYPE</th>\n",
       "      <th>OWN_TYPE</th>\n",
       "      <th>MANG_AUTH</th>\n",
       "      <th>MANG_PLAN</th>\n",
       "      <th>VERIF</th>\n",
       "      <th>METADATAID</th>\n",
       "      <th>SUB_LOC</th>\n",
       "      <th>PARENT_ISO</th>\n",
       "      <th>ISO3</th>\n",
       "      <th>geometry</th>\n",
       "    </tr>\n",
       "  </thead>\n",
       "  <tbody>\n",
       "    <tr>\n",
       "      <th>0</th>\n",
       "      <td>555555524.0</td>\n",
       "      <td>555555524</td>\n",
       "      <td>1</td>\n",
       "      <td>Lyondji Bonobo Community Reserve</td>\n",
       "      <td>Réserve Communautaires des Bonobos d' Iyondji</td>\n",
       "      <td>Forêt Classée et Réserve Communautaire</td>\n",
       "      <td>Classified Forest and Community Reserve</td>\n",
       "      <td>National</td>\n",
       "      <td>Not Reported</td>\n",
       "      <td>Not Applicable</td>\n",
       "      <td>...</td>\n",
       "      <td>Collaborative governance</td>\n",
       "      <td>Not Reported</td>\n",
       "      <td>l'Institut CongolaispourConservation dela Natu...</td>\n",
       "      <td>Not Reported</td>\n",
       "      <td>Not Reported</td>\n",
       "      <td>1717</td>\n",
       "      <td>Not Reported</td>\n",
       "      <td>COD</td>\n",
       "      <td>COD</td>\n",
       "      <td>MULTIPOLYGON (((22.78361 0.18587, 22.78492 0.1...</td>\n",
       "    </tr>\n",
       "    <tr>\n",
       "      <th>1</th>\n",
       "      <td>478291.0</td>\n",
       "      <td>478291</td>\n",
       "      <td>1</td>\n",
       "      <td>Parc national des Virunga</td>\n",
       "      <td>Parc national des Virunga</td>\n",
       "      <td>Ramsar Site, Wetland of International Importance</td>\n",
       "      <td>Ramsar Site, Wetland of International Importance</td>\n",
       "      <td>International</td>\n",
       "      <td>Not Reported</td>\n",
       "      <td>Not Reported</td>\n",
       "      <td>...</td>\n",
       "      <td>Not Reported</td>\n",
       "      <td>Not Reported</td>\n",
       "      <td>Not Reported</td>\n",
       "      <td>Management plan is not implented but is available</td>\n",
       "      <td>State Verified</td>\n",
       "      <td>1856</td>\n",
       "      <td>Not Reported</td>\n",
       "      <td>COD</td>\n",
       "      <td>COD</td>\n",
       "      <td>MULTIPOLYGON (((29.11713 -1.64822, 29.11765 -1...</td>\n",
       "    </tr>\n",
       "    <tr>\n",
       "      <th>2</th>\n",
       "      <td>72340.0</td>\n",
       "      <td>72340</td>\n",
       "      <td>1</td>\n",
       "      <td>Luo Scientific Reserve</td>\n",
       "      <td>Réserve Scientifique de la Luo</td>\n",
       "      <td>Réserve</td>\n",
       "      <td>Scientific Reserve</td>\n",
       "      <td>National</td>\n",
       "      <td>Not Reported</td>\n",
       "      <td>Not Applicable</td>\n",
       "      <td>...</td>\n",
       "      <td>Government-delegated management</td>\n",
       "      <td>Not Reported</td>\n",
       "      <td>Center for Research in Natural Sciences (CRSN/...</td>\n",
       "      <td>Not Reported</td>\n",
       "      <td>Not Reported</td>\n",
       "      <td>1717</td>\n",
       "      <td>Not Reported</td>\n",
       "      <td>COD</td>\n",
       "      <td>COD</td>\n",
       "      <td>MULTIPOLYGON (((22.56673 0.24907, 22.57264 0.2...</td>\n",
       "    </tr>\n",
       "    <tr>\n",
       "      <th>3</th>\n",
       "      <td>478292.0</td>\n",
       "      <td>478292</td>\n",
       "      <td>1</td>\n",
       "      <td>Salonga</td>\n",
       "      <td>Parc National de la Salonga</td>\n",
       "      <td>Réserve Naturelle Integrale</td>\n",
       "      <td>Integrale Nature Reserve</td>\n",
       "      <td>National</td>\n",
       "      <td>II</td>\n",
       "      <td>Not Applicable</td>\n",
       "      <td>...</td>\n",
       "      <td>Not Reported</td>\n",
       "      <td>Not Reported</td>\n",
       "      <td>Not Reported</td>\n",
       "      <td>Not Reported</td>\n",
       "      <td>Not Reported</td>\n",
       "      <td>1717</td>\n",
       "      <td>Not Reported</td>\n",
       "      <td>COD</td>\n",
       "      <td>COD</td>\n",
       "      <td>MULTIPOLYGON (((20.47664 -1.53041, 20.47703 -1...</td>\n",
       "    </tr>\n",
       "    <tr>\n",
       "      <th>4</th>\n",
       "      <td>9143.0</td>\n",
       "      <td>9143</td>\n",
       "      <td>1</td>\n",
       "      <td>Réserve forestière de Luki</td>\n",
       "      <td>Réserve forestière de Luki</td>\n",
       "      <td>UNESCO-MAB Biosphere Reserve</td>\n",
       "      <td>UNESCO-MAB Biosphere Reserve</td>\n",
       "      <td>International</td>\n",
       "      <td>Not Applicable</td>\n",
       "      <td>Not Applicable</td>\n",
       "      <td>...</td>\n",
       "      <td>Not Reported</td>\n",
       "      <td>Not Reported</td>\n",
       "      <td>Not Reported</td>\n",
       "      <td>Not Reported</td>\n",
       "      <td>Not Reported</td>\n",
       "      <td>715</td>\n",
       "      <td>CD-KW</td>\n",
       "      <td>COD</td>\n",
       "      <td>COD</td>\n",
       "      <td>MULTIPOLYGON (((13.24173 -5.50931, 13.23929 -5...</td>\n",
       "    </tr>\n",
       "  </tbody>\n",
       "</table>\n",
       "<p>5 rows × 29 columns</p>\n",
       "</div>"
      ],
      "text/plain": [
       "        WDPAID   WDPA_PID PA_DEF                              NAME  \\\n",
       "0  555555524.0  555555524      1  Lyondji Bonobo Community Reserve   \n",
       "1     478291.0     478291      1         Parc national des Virunga   \n",
       "2      72340.0      72340      1            Luo Scientific Reserve   \n",
       "3     478292.0     478292      1                           Salonga   \n",
       "4       9143.0       9143      1        Réserve forestière de Luki   \n",
       "\n",
       "                                       ORIG_NAME  \\\n",
       "0  Réserve Communautaires des Bonobos d' Iyondji   \n",
       "1                      Parc national des Virunga   \n",
       "2                 Réserve Scientifique de la Luo   \n",
       "3                    Parc National de la Salonga   \n",
       "4                     Réserve forestière de Luki   \n",
       "\n",
       "                                              DESIG  \\\n",
       "0            Forêt Classée et Réserve Communautaire   \n",
       "1  Ramsar Site, Wetland of International Importance   \n",
       "2                                           Réserve   \n",
       "3                       Réserve Naturelle Integrale   \n",
       "4                      UNESCO-MAB Biosphere Reserve   \n",
       "\n",
       "                                          DESIG_ENG     DESIG_TYPE  \\\n",
       "0           Classified Forest and Community Reserve       National   \n",
       "1  Ramsar Site, Wetland of International Importance  International   \n",
       "2                                Scientific Reserve       National   \n",
       "3                          Integrale Nature Reserve       National   \n",
       "4                      UNESCO-MAB Biosphere Reserve  International   \n",
       "\n",
       "         IUCN_CAT        INT_CRIT  ...                         GOV_TYPE  \\\n",
       "0    Not Reported  Not Applicable  ...         Collaborative governance   \n",
       "1    Not Reported    Not Reported  ...                     Not Reported   \n",
       "2    Not Reported  Not Applicable  ...  Government-delegated management   \n",
       "3              II  Not Applicable  ...                     Not Reported   \n",
       "4  Not Applicable  Not Applicable  ...                     Not Reported   \n",
       "\n",
       "       OWN_TYPE                                          MANG_AUTH  \\\n",
       "0  Not Reported  l'Institut CongolaispourConservation dela Natu...   \n",
       "1  Not Reported                                       Not Reported   \n",
       "2  Not Reported  Center for Research in Natural Sciences (CRSN/...   \n",
       "3  Not Reported                                       Not Reported   \n",
       "4  Not Reported                                       Not Reported   \n",
       "\n",
       "                                           MANG_PLAN           VERIF  \\\n",
       "0                                       Not Reported    Not Reported   \n",
       "1  Management plan is not implented but is available  State Verified   \n",
       "2                                       Not Reported    Not Reported   \n",
       "3                                       Not Reported    Not Reported   \n",
       "4                                       Not Reported    Not Reported   \n",
       "\n",
       "  METADATAID       SUB_LOC PARENT_ISO  ISO3  \\\n",
       "0       1717  Not Reported        COD   COD   \n",
       "1       1856  Not Reported        COD   COD   \n",
       "2       1717  Not Reported        COD   COD   \n",
       "3       1717  Not Reported        COD   COD   \n",
       "4        715         CD-KW        COD   COD   \n",
       "\n",
       "                                            geometry  \n",
       "0  MULTIPOLYGON (((22.78361 0.18587, 22.78492 0.1...  \n",
       "1  MULTIPOLYGON (((29.11713 -1.64822, 29.11765 -1...  \n",
       "2  MULTIPOLYGON (((22.56673 0.24907, 22.57264 0.2...  \n",
       "3  MULTIPOLYGON (((20.47664 -1.53041, 20.47703 -1...  \n",
       "4  MULTIPOLYGON (((13.24173 -5.50931, 13.23929 -5...  \n",
       "\n",
       "[5 rows x 29 columns]"
      ]
     },
     "execution_count": 10,
     "metadata": {},
     "output_type": "execute_result"
    }
   ],
   "source": [
    "df=geopandas.read_file(r\"C:\\Users\\Nevra\\Pictures\\Downloads\\wdpamay2017cod-shapefile-polygons.geojson\")\n",
    "df.head()"
   ]
  },
  {
   "cell_type": "code",
   "execution_count": 11,
   "metadata": {},
   "outputs": [
    {
     "data": {
      "text/plain": [
       "Index(['WDPAID', 'WDPA_PID', 'PA_DEF', 'NAME', 'ORIG_NAME', 'DESIG',\n",
       "       'DESIG_ENG', 'DESIG_TYPE', 'IUCN_CAT', 'INT_CRIT', 'MARINE',\n",
       "       'REP_M_AREA', 'GIS_M_AREA', 'REP_AREA', 'GIS_AREA', 'NO_TAKE',\n",
       "       'NO_TK_AREA', 'STATUS', 'STATUS_YR', 'GOV_TYPE', 'OWN_TYPE',\n",
       "       'MANG_AUTH', 'MANG_PLAN', 'VERIF', 'METADATAID', 'SUB_LOC',\n",
       "       'PARENT_ISO', 'ISO3', 'geometry'],\n",
       "      dtype='object')"
      ]
     },
     "execution_count": 11,
     "metadata": {},
     "output_type": "execute_result"
    }
   ],
   "source": [
    "df.columns"
   ]
  },
  {
   "cell_type": "code",
   "execution_count": 17,
   "metadata": {},
   "outputs": [
    {
     "data": {
      "text/plain": [
       "0              Classified Forest and Community Reserve\n",
       "1     Ramsar Site, Wetland of International Importance\n",
       "2                                   Scientific Reserve\n",
       "3                             Integrale Nature Reserve\n",
       "4                         UNESCO-MAB Biosphere Reserve\n",
       "5                                       Nature Reserve\n",
       "6                                        National Park\n",
       "7                                       Nature Reserve\n",
       "8                                       Nature Reserve\n",
       "9                                        National Park\n",
       "10                                       National Park\n",
       "11                                       National Park\n",
       "12                                       National Park\n",
       "13                                       National Park\n",
       "14                                        Hunting Area\n",
       "15                                        Hunting Area\n",
       "16                                        Not Reported\n",
       "17                                        Not Reported\n",
       "18                                        Hunting Area\n",
       "19                                    Wildlife Reserve\n",
       "20                                             Reserve\n",
       "21                                        Hunting Area\n",
       "22                                        Hunting Area\n",
       "23                                      Nature Reserve\n",
       "24                                        Hunting Area\n",
       "25                                       National Park\n",
       "26                              Primate Nature Reserve\n",
       "27                                      Nature Reserve\n",
       "28                                        Hunting Area\n",
       "29                                        Hunting Area\n",
       "30                                   Biosphere Reserve\n",
       "31                                   Biosphere Reserve\n",
       "32                                   Biosphere Reserve\n",
       "33                                      Nature Reserve\n",
       "34                                    Wildlife Reserve\n",
       "35                                      Nature Reserve\n",
       "36                                        Hunting Area\n",
       "37                                       National Park\n",
       "38                                        Hunting Area\n",
       "39                                      Nature Reserve\n",
       "40                                 World Heritage Site\n",
       "41                                 World Heritage Site\n",
       "42                                 World Heritage Site\n",
       "43                                 World Heritage Site\n",
       "44                                 World Heritage Site\n",
       "Name: DESIG_ENG, dtype: object"
      ]
     },
     "execution_count": 17,
     "metadata": {},
     "output_type": "execute_result"
    }
   ],
   "source": [
    "df.DESIG_ENG"
   ]
  },
  {
   "cell_type": "code",
   "execution_count": 20,
   "metadata": {},
   "outputs": [
    {
     "data": {
      "text/html": [
       "<div>\n",
       "<style scoped>\n",
       "    .dataframe tbody tr th:only-of-type {\n",
       "        vertical-align: middle;\n",
       "    }\n",
       "\n",
       "    .dataframe tbody tr th {\n",
       "        vertical-align: top;\n",
       "    }\n",
       "\n",
       "    .dataframe thead th {\n",
       "        text-align: right;\n",
       "    }\n",
       "</style>\n",
       "<table border=\"1\" class=\"dataframe\">\n",
       "  <thead>\n",
       "    <tr style=\"text-align: right;\">\n",
       "      <th></th>\n",
       "      <th>DESIG_ENG</th>\n",
       "      <th>NAME</th>\n",
       "      <th>geometry</th>\n",
       "    </tr>\n",
       "  </thead>\n",
       "  <tbody>\n",
       "    <tr>\n",
       "      <th>0</th>\n",
       "      <td>Classified Forest and Community Reserve</td>\n",
       "      <td>Lyondji Bonobo Community Reserve</td>\n",
       "      <td>MULTIPOLYGON (((22.78361 0.18587, 22.78492 0.1...</td>\n",
       "    </tr>\n",
       "    <tr>\n",
       "      <th>1</th>\n",
       "      <td>Ramsar Site, Wetland of International Importance</td>\n",
       "      <td>Parc national des Virunga</td>\n",
       "      <td>MULTIPOLYGON (((29.11713 -1.64822, 29.11765 -1...</td>\n",
       "    </tr>\n",
       "    <tr>\n",
       "      <th>2</th>\n",
       "      <td>Scientific Reserve</td>\n",
       "      <td>Luo Scientific Reserve</td>\n",
       "      <td>MULTIPOLYGON (((22.56673 0.24907, 22.57264 0.2...</td>\n",
       "    </tr>\n",
       "    <tr>\n",
       "      <th>3</th>\n",
       "      <td>Integrale Nature Reserve</td>\n",
       "      <td>Salonga</td>\n",
       "      <td>MULTIPOLYGON (((20.47664 -1.53041, 20.47703 -1...</td>\n",
       "    </tr>\n",
       "    <tr>\n",
       "      <th>4</th>\n",
       "      <td>UNESCO-MAB Biosphere Reserve</td>\n",
       "      <td>Réserve forestière de Luki</td>\n",
       "      <td>MULTIPOLYGON (((13.24173 -5.50931, 13.23929 -5...</td>\n",
       "    </tr>\n",
       "  </tbody>\n",
       "</table>\n",
       "</div>"
      ],
      "text/plain": [
       "                                          DESIG_ENG  \\\n",
       "0           Classified Forest and Community Reserve   \n",
       "1  Ramsar Site, Wetland of International Importance   \n",
       "2                                Scientific Reserve   \n",
       "3                          Integrale Nature Reserve   \n",
       "4                      UNESCO-MAB Biosphere Reserve   \n",
       "\n",
       "                               NAME  \\\n",
       "0  Lyondji Bonobo Community Reserve   \n",
       "1         Parc national des Virunga   \n",
       "2            Luo Scientific Reserve   \n",
       "3                           Salonga   \n",
       "4        Réserve forestière de Luki   \n",
       "\n",
       "                                            geometry  \n",
       "0  MULTIPOLYGON (((22.78361 0.18587, 22.78492 0.1...  \n",
       "1  MULTIPOLYGON (((29.11713 -1.64822, 29.11765 -1...  \n",
       "2  MULTIPOLYGON (((22.56673 0.24907, 22.57264 0.2...  \n",
       "3  MULTIPOLYGON (((20.47664 -1.53041, 20.47703 -1...  \n",
       "4  MULTIPOLYGON (((13.24173 -5.50931, 13.23929 -5...  "
      ]
     },
     "execution_count": 20,
     "metadata": {},
     "output_type": "execute_result"
    }
   ],
   "source": [
    "national_parks=df[[\"DESIG_ENG\",\"NAME\",\"geometry\"]]\n",
    "national_parks.head()"
   ]
  },
  {
   "cell_type": "code",
   "execution_count": 23,
   "metadata": {},
   "outputs": [
    {
     "data": {
      "text/plain": [
       "<Geographic 2D CRS: EPSG:4326>\n",
       "Name: WGS 84\n",
       "Axis Info [ellipsoidal]:\n",
       "- Lat[north]: Geodetic latitude (degree)\n",
       "- Lon[east]: Geodetic longitude (degree)\n",
       "Area of Use:\n",
       "- undefined\n",
       "Datum: World Geodetic System 1984\n",
       "- Ellipsoid: WGS 84\n",
       "- Prime Meridian: Greenwich"
      ]
     },
     "execution_count": 23,
     "metadata": {},
     "output_type": "execute_result"
    }
   ],
   "source": [
    "national_parks.crs"
   ]
  },
  {
   "cell_type": "code",
   "execution_count": 25,
   "metadata": {},
   "outputs": [
    {
     "data": {
      "text/plain": [
       "<AxesSubplot:>"
      ]
     },
     "execution_count": 25,
     "metadata": {},
     "output_type": "execute_result"
    },
    {
     "data": {
      "image/png": "[encoded data removed]",
      "text/plain": [
       "<Figure size 640x480 with 1 Axes>"
      ]
     },
     "metadata": {},
     "output_type": "display_data"
    }
   ],
   "source": [
    "national_parks.plot()"
   ]
  },
  {
   "cell_type": "code",
   "execution_count": 27,
   "metadata": {},
   "outputs": [
    {
     "data": {
      "text/plain": [
       "<AxesSubplot:>"
      ]
     },
     "execution_count": 27,
     "metadata": {},
     "output_type": "execute_result"
    },
    {
     "data": {
      "image/png": "[encoded data removed]",
      "text/plain": [
       "<Figure size 640x480 with 1 Axes>"
      ]
     },
     "metadata": {},
     "output_type": "display_data"
    }
   ],
   "source": [
    "ax=national_parks.plot()\n",
    "mining_sites.plot(ax=ax,color=\"red\")"
   ]
  },
  {
   "cell_type": "code",
   "execution_count": 28,
   "metadata": {},
   "outputs": [],
   "source": [
    "mining_sites_utm = mining_sites.to_crs(\"EPSG:32735\")\n",
    "national_parks_utm = national_parks.to_crs(\"EPSG:32735\")"
   ]
  },
  {
   "cell_type": "code",
   "execution_count": 48,
   "metadata": {},
   "outputs": [
    {
     "data": {
      "text/plain": [
       "<Projected CRS: EPSG:32735>\n",
       "Name: WGS 84 / UTM zone 35S\n",
       "Axis Info [cartesian]:\n",
       "- E[east]: Easting (metre)\n",
       "- N[north]: Northing (metre)\n",
       "Area of Use:\n",
       "- name: Between 24°E and 30°E, southern hemisphere between 80°S and equator, onshore and offshore. Botswana. Burundi. Democratic Republic of the Congo (Zaire). Rwanda. South Africa. Tanzania. Uganda. Zambia. Zimbabwe.\n",
       "- bounds: (24.0, -80.0, 30.0, 0.0)\n",
       "Coordinate Operation:\n",
       "- name: UTM zone 35S\n",
       "- method: Transverse Mercator\n",
       "Datum: World Geodetic System 1984 ensemble\n",
       "- Ellipsoid: WGS 84\n",
       "- Prime Meridian: Greenwich"
      ]
     },
     "execution_count": 48,
     "metadata": {},
     "output_type": "execute_result"
    }
   ],
   "source": [
    "mining_sites_utm.crs"
   ]
  },
  {
   "cell_type": "code",
   "execution_count": 32,
   "metadata": {},
   "outputs": [
    {
     "data": {
      "image/png": "[encoded data removed]",
      "text/plain": [
       "<Figure size 640x480 with 1 Axes>"
      ]
     },
     "metadata": {},
     "output_type": "display_data"
    }
   ],
   "source": [
    "ax = national_parks_utm.plot()\n",
    "mining_sites_utm.plot(ax=ax, color='red',markersize=3)\n",
    "plt.show()"
   ]
  },
  {
   "cell_type": "code",
   "execution_count": 33,
   "metadata": {},
   "outputs": [],
   "source": [
    "mining_sites_utm.to_file(\"D:\\Data\\Congo\\ipis_cod_mines_utm.gpkg\",driver='GPKG')\n",
    "national_parks_utm.to_file(\"D:\\Data\\Congo\\cod_conservation_utm.shp\", driver='ESRI Shapefile')"
   ]
  },
  {
   "cell_type": "code",
   "execution_count": 52,
   "metadata": {},
   "outputs": [
    {
     "data": {
      "image/png": "[encoded data removed]",
      "text/plain": [
       "<Figure size 640x480 with 1 Axes>"
      ]
     },
     "metadata": {},
     "output_type": "display_data"
    }
   ],
   "source": [
    "ax=national_parks_utm.plot(color=\"green\")\n",
    "mining_sites_utm.plot(ax=ax,markersize=5,alpha=0.5)\n",
    "ax.set_axis_off()"
   ]
  },
  {
   "cell_type": "code",
   "execution_count": 54,
   "metadata": {},
   "outputs": [
    {
     "data": {
      "image/png": "[encoded data removed]",
      "text/plain": [
       "<Figure size 640x480 with 1 Axes>"
      ]
     },
     "metadata": {},
     "output_type": "display_data"
    }
   ],
   "source": [
    "ax=national_parks_utm.plot(color=\"green\")\n",
    "mining_sites_utm.plot(ax=ax,column=\"mineral\",markersize=5,legend=True)\n",
    "ax.set_axis_off()"
   ]
  },
  {
   "cell_type": "code",
   "execution_count": 66,
   "metadata": {},
   "outputs": [
    {
     "data": {
      "text/plain": [
       "<AxesSubplot:>"
      ]
     },
     "execution_count": 66,
     "metadata": {},
     "output_type": "execute_result"
    },
    {
     "data": {
      "image/png": "[encoded data removed]",
      "text/plain": [
       "<Figure size 640x480 with 1 Axes>"
      ]
     },
     "metadata": {},
     "output_type": "display_data"
    }
   ],
   "source": [
    "mining_sites_utm.plot(markersize=5)"
   ]
  },
  {
   "cell_type": "code",
   "execution_count": 71,
   "metadata": {},
   "outputs": [],
   "source": [
    "goma=Point(746989.5594829298,9816380.942287602)"
   ]
  },
  {
   "cell_type": "code",
   "execution_count": 74,
   "metadata": {},
   "outputs": [
    {
     "name": "stdout",
     "output_type": "stream",
     "text": [
      "POINT (746989.5594829298 9816380.942287602)\n"
     ]
    }
   ],
   "source": [
    "print(goma)"
   ]
  },
  {
   "cell_type": "code",
   "execution_count": 75,
   "metadata": {},
   "outputs": [
    {
     "name": "stdout",
     "output_type": "stream",
     "text": [
      "<class 'shapely.geometry.point.Point'>\n"
     ]
    }
   ],
   "source": [
    "print(type(goma))"
   ]
  },
  {
   "cell_type": "code",
   "execution_count": 77,
   "metadata": {},
   "outputs": [],
   "source": [
    "goma_buffer = goma.buffer(50000)"
   ]
  },
  {
   "cell_type": "code",
   "execution_count": 78,
   "metadata": {},
   "outputs": [
    {
     "name": "stdout",
     "output_type": "stream",
     "text": [
      "<class 'shapely.geometry.polygon.Polygon'>\n",
      "POLYGON ((796989.5594829298 9816380.942287602, 796748.7958165396 9811480.085271124, 796028.8235030912 9806626.426186794, 794836.5762695402 9801866.70842488, 793183.536108494 9797246.770669347, 791085.6227003476 9792811.105446301, 788563.040098057 9788602.430636622, 785640.0821510666 9784661.278079418, 782344.8985422571 9781025.603228275, 778709.223691112 9777730.419619465, 774768.0711339099 9774807.461672474, 770559.3963242297 9772284.879070183, 766123.7311011843 9770186.965662038, 761503.7933456529 9768533.92550099, 756744.0755837362 9767341.67826744, 751890.4164994078 9766621.705953991, 746989.5594829298 9766380.942287602, 742088.7024664517 9766621.705953991, 737235.0433821233 9767341.67826744, 732475.3256202067 9768533.92550099, 727855.3878646753 9770186.965662038, 723419.7226416299 9772284.879070183, 719211.0478319497 9774807.461672474, 715269.8952747475 9777730.419619465, 711634.2204236024 9781025.603228275, 708339.0368147929 9784661.278079418, 705416.0788678025 9788602.430636622, 702893.496265512 9792811.105446301, 700795.5828573655 9797246.770669347, 699142.5426963193 9801866.70842488, 697950.2954627683 9806626.426186794, 697230.32314932 9811480.085271124, 696989.5594829298 9816380.942287602, 697230.32314932 9821281.79930408, 697950.2954627683 9826135.458388409, 699142.5426963193 9830895.176150324, 700795.5828573654 9835515.113905856, 702893.496265512 9839950.779128902, 705416.0788678025 9844159.453938581, 708339.0368147929 9848100.606495785, 711634.2204236024 9851736.281346928, 715269.8952747475 9855031.464955738, 719211.0478319497 9857954.42290273, 723419.7226416299 9860477.00550502, 727855.3878646753 9862574.918913165, 732475.3256202067 9864227.959074212, 737235.0433821233 9865420.206307763, 742088.7024664518 9866140.178621212, 746989.5594829298 9866380.942287602, 751890.4164994077 9866140.178621212, 756744.0755837362 9865420.206307763, 761503.7933456529 9864227.959074212, 766123.7311011843 9862574.918913165, 770559.3963242297 9860477.00550502, 774768.0711339099 9857954.42290273, 778709.223691112 9855031.464955738, 782344.8985422571 9851736.281346928, 785640.0821510666 9848100.606495785, 788563.040098057 9844159.453938581, 791085.6227003476 9839950.779128902, 793183.536108494 9835515.113905856, 794836.5762695402 9830895.176150324, 796028.8235030912 9826135.458388409, 796748.7958165396 9821281.79930408, 796989.5594829298 9816380.942287602))\n"
     ]
    }
   ],
   "source": [
    "print(type(goma_buffer))\n",
    "print(goma_buffer)"
   ]
  },
  {
   "cell_type": "code",
   "execution_count": 81,
   "metadata": {},
   "outputs": [
    {
     "data": {
      "text/plain": [
       "0       False\n",
       "1       False\n",
       "2       False\n",
       "3       False\n",
       "4       False\n",
       "        ...  \n",
       "2138    False\n",
       "2139     True\n",
       "2140     True\n",
       "2141    False\n",
       "2142    False\n",
       "Length: 2143, dtype: bool"
      ]
     },
     "execution_count": 81,
     "metadata": {},
     "output_type": "execute_result"
    }
   ],
   "source": [
    "mask=mining_sites_utm.within(goma_buffer)\n",
    "mask"
   ]
  },
  {
   "cell_type": "code",
   "execution_count": 82,
   "metadata": {},
   "outputs": [
    {
     "data": {
      "text/plain": [
       "87"
      ]
     },
     "execution_count": 82,
     "metadata": {},
     "output_type": "execute_result"
    }
   ],
   "source": [
    "mask.sum()"
   ]
  },
  {
   "cell_type": "code",
   "execution_count": 87,
   "metadata": {},
   "outputs": [
    {
     "name": "stderr",
     "output_type": "stream",
     "text": [
      "c:\\Users\\Nevra\\anaconda3\\lib\\site-packages\\shapely\\set_operations.py:133: RuntimeWarning: invalid value encountered in intersection\n",
      "  return lib.intersection(a, b, **kwargs)\n"
     ]
    },
    {
     "data": {
      "text/plain": [
       "0                                         POLYGON EMPTY\n",
       "1     MULTIPOLYGON (((735598.495 9817689.753, 735666...\n",
       "2                                         POLYGON EMPTY\n",
       "3                                         POLYGON EMPTY\n",
       "4                                         POLYGON EMPTY\n",
       "5                                         POLYGON EMPTY\n",
       "6                                         POLYGON EMPTY\n",
       "7                                         POLYGON EMPTY\n",
       "8                                         POLYGON EMPTY\n",
       "9                                         POLYGON EMPTY\n",
       "10                                        POLYGON EMPTY\n",
       "11                                        POLYGON EMPTY\n",
       "12                                        POLYGON EMPTY\n",
       "13                                        POLYGON EMPTY\n",
       "14                                        POLYGON EMPTY\n",
       "15                                        POLYGON EMPTY\n",
       "16                                        POLYGON EMPTY\n",
       "17                                        POLYGON EMPTY\n",
       "18                                        POLYGON EMPTY\n",
       "19                                        POLYGON EMPTY\n",
       "20                                        POLYGON EMPTY\n",
       "21                                        POLYGON EMPTY\n",
       "22                                        POLYGON EMPTY\n",
       "23                                        POLYGON EMPTY\n",
       "24                                        POLYGON EMPTY\n",
       "25                                        POLYGON EMPTY\n",
       "26                                        POLYGON EMPTY\n",
       "27                                        POLYGON EMPTY\n",
       "28                                        POLYGON EMPTY\n",
       "29                                        POLYGON EMPTY\n",
       "30                                        POLYGON EMPTY\n",
       "31                                        POLYGON EMPTY\n",
       "32                                        POLYGON EMPTY\n",
       "33                                        POLYGON EMPTY\n",
       "34                                        POLYGON EMPTY\n",
       "35                                        POLYGON EMPTY\n",
       "36                                        POLYGON EMPTY\n",
       "37    MULTIPOLYGON (((735598.716 9817689.364, 735666...\n",
       "38                                        POLYGON EMPTY\n",
       "39                                        POLYGON EMPTY\n",
       "40                                        POLYGON EMPTY\n",
       "41                                        POLYGON EMPTY\n",
       "42                                        POLYGON EMPTY\n",
       "43                                        POLYGON EMPTY\n",
       "44    MULTIPOLYGON (((764110.043 9861534.201, 760843...\n",
       "dtype: geometry"
      ]
     },
     "execution_count": 87,
     "metadata": {},
     "output_type": "execute_result"
    }
   ],
   "source": [
    "national_parks_utm.intersection(goma_buffer)"
   ]
  },
  {
   "cell_type": "code",
   "execution_count": 92,
   "metadata": {},
   "outputs": [
    {
     "name": "stderr",
     "output_type": "stream",
     "text": [
      "c:\\Users\\Nevra\\anaconda3\\lib\\site-packages\\shapely\\set_operations.py:133: RuntimeWarning: invalid value encountered in intersection\n",
      "  return lib.intersection(a, b, **kwargs)\n"
     ]
    },
    {
     "data": {
      "text/plain": [
       "3894.8385678792915"
      ]
     },
     "execution_count": 92,
     "metadata": {},
     "output_type": "execute_result"
    }
   ],
   "source": [
    "national_parks_utm.intersection(goma_buffer).area.sum() / 1000**2"
   ]
  },
  {
   "cell_type": "code",
   "execution_count": 101,
   "metadata": {},
   "outputs": [],
   "source": [
    "kahuzi=national_parks_utm[national_parks_utm['NAME'] == \"Kahuzi-Biega\"].geometry.squeeze()"
   ]
  },
  {
   "cell_type": "code",
   "execution_count": 113,
   "metadata": {},
   "outputs": [
    {
     "data": {
      "text/html": [
       "<div>\n",
       "<style scoped>\n",
       "    .dataframe tbody tr th:only-of-type {\n",
       "        vertical-align: middle;\n",
       "    }\n",
       "\n",
       "    .dataframe tbody tr th {\n",
       "        vertical-align: top;\n",
       "    }\n",
       "\n",
       "    .dataframe thead th {\n",
       "        text-align: right;\n",
       "    }\n",
       "</style>\n",
       "<table border=\"1\" class=\"dataframe\">\n",
       "  <thead>\n",
       "    <tr style=\"text-align: right;\">\n",
       "      <th></th>\n",
       "      <th>visit_date</th>\n",
       "      <th>name</th>\n",
       "      <th>n_workers</th>\n",
       "      <th>mineral</th>\n",
       "      <th>geometry</th>\n",
       "    </tr>\n",
       "  </thead>\n",
       "  <tbody>\n",
       "    <tr>\n",
       "      <th>661</th>\n",
       "      <td>2013-08-28</td>\n",
       "      <td>Ibozia/Kalumé</td>\n",
       "      <td>80.0</td>\n",
       "      <td>Cassiterite</td>\n",
       "      <td>POINT (567832.709 9759143.339)</td>\n",
       "    </tr>\n",
       "    <tr>\n",
       "      <th>662</th>\n",
       "      <td>2013-08-26</td>\n",
       "      <td>Matamba</td>\n",
       "      <td>150.0</td>\n",
       "      <td>Cassiterite</td>\n",
       "      <td>POINT (598323.539 9758688.142)</td>\n",
       "    </tr>\n",
       "    <tr>\n",
       "      <th>663</th>\n",
       "      <td>2013-08-27</td>\n",
       "      <td>Mutete/Mukina</td>\n",
       "      <td>170.0</td>\n",
       "      <td>Cassiterite</td>\n",
       "      <td>POINT (570733.437 9761871.114)</td>\n",
       "    </tr>\n",
       "    <tr>\n",
       "      <th>664</th>\n",
       "      <td>2013-08-28</td>\n",
       "      <td>Mutete</td>\n",
       "      <td>100.0</td>\n",
       "      <td>Cassiterite</td>\n",
       "      <td>POINT (569881.093 9762219.111)</td>\n",
       "    </tr>\n",
       "    <tr>\n",
       "      <th>760</th>\n",
       "      <td>2014-02-25</td>\n",
       "      <td>Mazankala</td>\n",
       "      <td>120.0</td>\n",
       "      <td>Cassiterite</td>\n",
       "      <td>POINT (613075.533 9722956.980)</td>\n",
       "    </tr>\n",
       "    <tr>\n",
       "      <th>813</th>\n",
       "      <td>2015-07-28</td>\n",
       "      <td>Kitendebwa</td>\n",
       "      <td>50.0</td>\n",
       "      <td>Gold</td>\n",
       "      <td>POINT (693078.928 9770107.518)</td>\n",
       "    </tr>\n",
       "    <tr>\n",
       "      <th>869</th>\n",
       "      <td>2013-09-28</td>\n",
       "      <td>Sebwa-Lukoma</td>\n",
       "      <td>130.0</td>\n",
       "      <td>Cassiterite</td>\n",
       "      <td>POINT (660406.345 9715261.717)</td>\n",
       "    </tr>\n",
       "    <tr>\n",
       "      <th>870</th>\n",
       "      <td>2013-10-30</td>\n",
       "      <td>Rwamakaza</td>\n",
       "      <td>160.0</td>\n",
       "      <td>Cassiterite</td>\n",
       "      <td>POINT (661266.834 9716072.199)</td>\n",
       "    </tr>\n",
       "    <tr>\n",
       "      <th>1481</th>\n",
       "      <td>2009-01-01</td>\n",
       "      <td>Mugaba I</td>\n",
       "      <td>50.0</td>\n",
       "      <td>Gold</td>\n",
       "      <td>POINT (685167.371 9744069.967)</td>\n",
       "    </tr>\n",
       "    <tr>\n",
       "      <th>1482</th>\n",
       "      <td>2009-01-01</td>\n",
       "      <td>Mugaba Ouest</td>\n",
       "      <td>46.0</td>\n",
       "      <td>Gold</td>\n",
       "      <td>POINT (683156.687 9746324.416)</td>\n",
       "    </tr>\n",
       "    <tr>\n",
       "      <th>1676</th>\n",
       "      <td>2015-08-02</td>\n",
       "      <td>Nguba(Nkuba) kamisoke</td>\n",
       "      <td>122.0</td>\n",
       "      <td>Cassiterite</td>\n",
       "      <td>POINT (622151.349 9808363.111)</td>\n",
       "    </tr>\n",
       "  </tbody>\n",
       "</table>\n",
       "</div>"
      ],
      "text/plain": [
       "      visit_date                   name  n_workers      mineral  \\\n",
       "661   2013-08-28          Ibozia/Kalumé       80.0  Cassiterite   \n",
       "662   2013-08-26                Matamba      150.0  Cassiterite   \n",
       "663   2013-08-27          Mutete/Mukina      170.0  Cassiterite   \n",
       "664   2013-08-28                 Mutete      100.0  Cassiterite   \n",
       "760   2014-02-25              Mazankala      120.0  Cassiterite   \n",
       "813   2015-07-28             Kitendebwa       50.0         Gold   \n",
       "869   2013-09-28           Sebwa-Lukoma      130.0  Cassiterite   \n",
       "870   2013-10-30              Rwamakaza      160.0  Cassiterite   \n",
       "1481  2009-01-01               Mugaba I       50.0         Gold   \n",
       "1482  2009-01-01           Mugaba Ouest       46.0         Gold   \n",
       "1676  2015-08-02  Nguba(Nkuba) kamisoke      122.0  Cassiterite   \n",
       "\n",
       "                            geometry  \n",
       "661   POINT (567832.709 9759143.339)  \n",
       "662   POINT (598323.539 9758688.142)  \n",
       "663   POINT (570733.437 9761871.114)  \n",
       "664   POINT (569881.093 9762219.111)  \n",
       "760   POINT (613075.533 9722956.980)  \n",
       "813   POINT (693078.928 9770107.518)  \n",
       "869   POINT (660406.345 9715261.717)  \n",
       "870   POINT (661266.834 9716072.199)  \n",
       "1481  POINT (685167.371 9744069.967)  \n",
       "1482  POINT (683156.687 9746324.416)  \n",
       "1676  POINT (622151.349 9808363.111)  "
      ]
     },
     "execution_count": 113,
     "metadata": {},
     "output_type": "execute_result"
    }
   ],
   "source": [
    "sites_kahuzi=mining_sites_utm[mining_sites_utm.within(kahuzi)]\n",
    "sites_kahuzi"
   ]
  },
  {
   "cell_type": "code",
   "execution_count": 118,
   "metadata": {},
   "outputs": [
    {
     "data": {
      "text/plain": [
       "11"
      ]
     },
     "execution_count": 118,
     "metadata": {},
     "output_type": "execute_result"
    }
   ],
   "source": [
    "sites_kahuzi.name.count()"
   ]
  },
  {
   "cell_type": "code",
   "execution_count": 125,
   "metadata": {},
   "outputs": [
    {
     "data": {
      "text/html": [
       "<div>\n",
       "<style scoped>\n",
       "    .dataframe tbody tr th:only-of-type {\n",
       "        vertical-align: middle;\n",
       "    }\n",
       "\n",
       "    .dataframe tbody tr th {\n",
       "        vertical-align: top;\n",
       "    }\n",
       "\n",
       "    .dataframe thead th {\n",
       "        text-align: right;\n",
       "    }\n",
       "</style>\n",
       "<table border=\"1\" class=\"dataframe\">\n",
       "  <thead>\n",
       "    <tr style=\"text-align: right;\">\n",
       "      <th></th>\n",
       "      <th>DESIG_ENG</th>\n",
       "      <th>NAME</th>\n",
       "      <th>geometry</th>\n",
       "    </tr>\n",
       "  </thead>\n",
       "  <tbody>\n",
       "    <tr>\n",
       "      <th>0</th>\n",
       "      <td>Classified Forest and Community Reserve</td>\n",
       "      <td>Lyondji Bonobo Community Reserve</td>\n",
       "      <td>MULTIPOLYGON (((30396.594 10020600.079, 30542....</td>\n",
       "    </tr>\n",
       "    <tr>\n",
       "      <th>1</th>\n",
       "      <td>Ramsar Site, Wetland of International Importance</td>\n",
       "      <td>Parc national des Virunga</td>\n",
       "      <td>MULTIPOLYGON (((735540.644 9817696.449, 735598...</td>\n",
       "    </tr>\n",
       "    <tr>\n",
       "      <th>2</th>\n",
       "      <td>Scientific Reserve</td>\n",
       "      <td>Luo Scientific Reserve</td>\n",
       "      <td>MULTIPOLYGON (((6196.581 10027613.404, 6856.29...</td>\n",
       "    </tr>\n",
       "    <tr>\n",
       "      <th>3</th>\n",
       "      <td>Integrale Nature Reserve</td>\n",
       "      <td>Salonga</td>\n",
       "      <td>MULTIPOLYGON (((-227210.952 9829733.977, -2271...</td>\n",
       "    </tr>\n",
       "    <tr>\n",
       "      <th>4</th>\n",
       "      <td>UNESCO-MAB Biosphere Reserve</td>\n",
       "      <td>Réserve forestière de Luki</td>\n",
       "      <td>MULTIPOLYGON (((-1038605.456 9373038.040, -103...</td>\n",
       "    </tr>\n",
       "    <tr>\n",
       "      <th>5</th>\n",
       "      <td>Nature Reserve</td>\n",
       "      <td>Mangrove Nature Reserve or Marine Park</td>\n",
       "      <td>MULTIPOLYGON (((-1134038.340 9322070.594, -112...</td>\n",
       "    </tr>\n",
       "    <tr>\n",
       "      <th>6</th>\n",
       "      <td>National Park</td>\n",
       "      <td>Parc Marin des Mangroves</td>\n",
       "      <td>MULTIPOLYGON (((-1112314.327 9319142.330, -111...</td>\n",
       "    </tr>\n",
       "    <tr>\n",
       "      <th>7</th>\n",
       "      <td>Nature Reserve</td>\n",
       "      <td>Mangai</td>\n",
       "      <td>MULTIPOLYGON (((-281442.375 9382457.901, -2793...</td>\n",
       "    </tr>\n",
       "    <tr>\n",
       "      <th>8</th>\n",
       "      <td>Nature Reserve</td>\n",
       "      <td>Tshangalele - Kolwezi</td>\n",
       "      <td>MULTIPOLYGON (((308010.087 8805632.930, 293876...</td>\n",
       "    </tr>\n",
       "    <tr>\n",
       "      <th>9</th>\n",
       "      <td>National Park</td>\n",
       "      <td>Kahuzi-Biega</td>\n",
       "      <td>MULTIPOLYGON (((597783.510 9817233.531, 598593...</td>\n",
       "    </tr>\n",
       "    <tr>\n",
       "      <th>10</th>\n",
       "      <td>National Park</td>\n",
       "      <td>Garamba</td>\n",
       "      <td>MULTIPOLYGON (((783575.067 10515555.262, 78391...</td>\n",
       "    </tr>\n",
       "    <tr>\n",
       "      <th>11</th>\n",
       "      <td>National Park</td>\n",
       "      <td>Upemba</td>\n",
       "      <td>MULTIPOLYGON (((489438.480 8979820.809, 489354...</td>\n",
       "    </tr>\n",
       "    <tr>\n",
       "      <th>12</th>\n",
       "      <td>National Park</td>\n",
       "      <td>Maiko</td>\n",
       "      <td>MULTIPOLYGON (((623999.084 10013856.767, 62769...</td>\n",
       "    </tr>\n",
       "    <tr>\n",
       "      <th>13</th>\n",
       "      <td>National Park</td>\n",
       "      <td>Kundelungu</td>\n",
       "      <td>MULTIPOLYGON (((610202.744 8772814.243, 609663...</td>\n",
       "    </tr>\n",
       "    <tr>\n",
       "      <th>14</th>\n",
       "      <td>Hunting Area</td>\n",
       "      <td>Swa-Kibula</td>\n",
       "      <td>MULTIPOLYGON (((-560373.895 9119267.998, -5604...</td>\n",
       "    </tr>\n",
       "    <tr>\n",
       "      <th>15</th>\n",
       "      <td>Hunting Area</td>\n",
       "      <td>Bushimaie</td>\n",
       "      <td>MULTIPOLYGON (((81292.111 9231528.130, 89017.9...</td>\n",
       "    </tr>\n",
       "    <tr>\n",
       "      <th>16</th>\n",
       "      <td>Not Reported</td>\n",
       "      <td>Bombo Lumene</td>\n",
       "      <td>MULTIPOLYGON (((-730762.690 9517147.542, -7300...</td>\n",
       "    </tr>\n",
       "    <tr>\n",
       "      <th>17</th>\n",
       "      <td>Not Reported</td>\n",
       "      <td>Bili-Uere</td>\n",
       "      <td>MULTIPOLYGON (((48185.382 10519738.366, 53258....</td>\n",
       "    </tr>\n",
       "    <tr>\n",
       "      <th>18</th>\n",
       "      <td>Hunting Area</td>\n",
       "      <td>Rubi-Tele</td>\n",
       "      <td>MULTIPOLYGON (((374780.348 10307855.174, 38413...</td>\n",
       "    </tr>\n",
       "    <tr>\n",
       "      <th>19</th>\n",
       "      <td>Wildlife Reserve</td>\n",
       "      <td>Okapi</td>\n",
       "      <td>MULTIPOLYGON (((688652.020 10273853.058, 68874...</td>\n",
       "    </tr>\n",
       "    <tr>\n",
       "      <th>20</th>\n",
       "      <td>Reserve</td>\n",
       "      <td>Abumonbazi</td>\n",
       "      <td>MULTIPOLYGON (((-111322.172 10380478.682, -128...</td>\n",
       "    </tr>\n",
       "    <tr>\n",
       "      <th>21</th>\n",
       "      <td>Hunting Area</td>\n",
       "      <td>Gangala-na Bodio</td>\n",
       "      <td>MULTIPOLYGON (((777392.658 10518627.766, 77968...</td>\n",
       "    </tr>\n",
       "    <tr>\n",
       "      <th>22</th>\n",
       "      <td>Hunting Area</td>\n",
       "      <td>Maika-Penge</td>\n",
       "      <td>MULTIPOLYGON (((662062.807 10334331.574, 67064...</td>\n",
       "    </tr>\n",
       "    <tr>\n",
       "      <th>23</th>\n",
       "      <td>Nature Reserve</td>\n",
       "      <td>Tayna</td>\n",
       "      <td>MULTIPOLYGON (((690375.861 9939808.093, 690278...</td>\n",
       "    </tr>\n",
       "    <tr>\n",
       "      <th>24</th>\n",
       "      <td>Hunting Area</td>\n",
       "      <td>Lubudi-Sampwe</td>\n",
       "      <td>MULTIPOLYGON (((499090.276 8980681.825, 502393...</td>\n",
       "    </tr>\n",
       "    <tr>\n",
       "      <th>25</th>\n",
       "      <td>National Park</td>\n",
       "      <td>N'Sele</td>\n",
       "      <td>MULTIPOLYGON (((-802042.107 9511813.890, -7996...</td>\n",
       "    </tr>\n",
       "    <tr>\n",
       "      <th>26</th>\n",
       "      <td>Primate Nature Reserve</td>\n",
       "      <td>Kisimba Ikobo</td>\n",
       "      <td>MULTIPOLYGON (((681007.247 9939231.642, 682107...</td>\n",
       "    </tr>\n",
       "    <tr>\n",
       "      <th>27</th>\n",
       "      <td>Nature Reserve</td>\n",
       "      <td>Sankuru</td>\n",
       "      <td>MULTIPOLYGON (((169569.805 9812314.582, 179901...</td>\n",
       "    </tr>\n",
       "    <tr>\n",
       "      <th>28</th>\n",
       "      <td>Hunting Area</td>\n",
       "      <td>Bomu</td>\n",
       "      <td>MULTIPOLYGON (((421934.618 10569870.250, 42081...</td>\n",
       "    </tr>\n",
       "    <tr>\n",
       "      <th>29</th>\n",
       "      <td>Hunting Area</td>\n",
       "      <td>Luama-Kivu</td>\n",
       "      <td>MULTIPOLYGON (((651851.513 9478421.254, 639180...</td>\n",
       "    </tr>\n",
       "    <tr>\n",
       "      <th>30</th>\n",
       "      <td>Biosphere Reserve</td>\n",
       "      <td>Lufira</td>\n",
       "      <td>MULTIPOLYGON (((492919.990 8762022.167, 492414...</td>\n",
       "    </tr>\n",
       "    <tr>\n",
       "      <th>31</th>\n",
       "      <td>Biosphere Reserve</td>\n",
       "      <td>Luki</td>\n",
       "      <td>MULTIPOLYGON (((-1048299.536 9375763.746, -104...</td>\n",
       "    </tr>\n",
       "    <tr>\n",
       "      <th>32</th>\n",
       "      <td>Biosphere Reserve</td>\n",
       "      <td>Yangambi</td>\n",
       "      <td>MULTIPOLYGON (((246941.181 10118571.049, 25132...</td>\n",
       "    </tr>\n",
       "    <tr>\n",
       "      <th>33</th>\n",
       "      <td>Nature Reserve</td>\n",
       "      <td>Lomako-Yokokala</td>\n",
       "      <td>MULTIPOLYGON (((-128768.218 10134396.974, -127...</td>\n",
       "    </tr>\n",
       "    <tr>\n",
       "      <th>34</th>\n",
       "      <td>Wildlife Reserve</td>\n",
       "      <td>Bomu</td>\n",
       "      <td>MULTIPOLYGON (((288000.860 10546099.877, 28895...</td>\n",
       "    </tr>\n",
       "    <tr>\n",
       "      <th>35</th>\n",
       "      <td>Nature Reserve</td>\n",
       "      <td>Tumba-Lediima</td>\n",
       "      <td>MULTIPOLYGON (((-532535.717 9910984.631, -5321...</td>\n",
       "    </tr>\n",
       "    <tr>\n",
       "      <th>36</th>\n",
       "      <td>Hunting Area</td>\n",
       "      <td>Rutshuru</td>\n",
       "      <td>MULTIPOLYGON (((792477.992 9919575.057, 792490...</td>\n",
       "    </tr>\n",
       "    <tr>\n",
       "      <th>37</th>\n",
       "      <td>National Park</td>\n",
       "      <td>Virunga</td>\n",
       "      <td>MULTIPOLYGON (((735540.701 9817696.330, 735598...</td>\n",
       "    </tr>\n",
       "    <tr>\n",
       "      <th>38</th>\n",
       "      <td>Hunting Area</td>\n",
       "      <td>Luama-Katanga</td>\n",
       "      <td>MULTIPOLYGON (((733457.615 9361233.840, 732744...</td>\n",
       "    </tr>\n",
       "    <tr>\n",
       "      <th>39</th>\n",
       "      <td>Nature Reserve</td>\n",
       "      <td>Itombwe</td>\n",
       "      <td>MULTIPOLYGON (((642087.081 9622399.171, 641768...</td>\n",
       "    </tr>\n",
       "    <tr>\n",
       "      <th>40</th>\n",
       "      <td>World Heritage Site</td>\n",
       "      <td>Garamba National Park</td>\n",
       "      <td>MULTIPOLYGON (((783712.965 10515664.949, 78406...</td>\n",
       "    </tr>\n",
       "    <tr>\n",
       "      <th>41</th>\n",
       "      <td>World Heritage Site</td>\n",
       "      <td>Kahuzi-Biega National Park</td>\n",
       "      <td>MULTIPOLYGON (((582742.136 9820152.225, 582846...</td>\n",
       "    </tr>\n",
       "    <tr>\n",
       "      <th>42</th>\n",
       "      <td>World Heritage Site</td>\n",
       "      <td>Okapi Wildlife Reserve</td>\n",
       "      <td>MULTIPOLYGON (((688652.020 10273853.058, 68874...</td>\n",
       "    </tr>\n",
       "    <tr>\n",
       "      <th>43</th>\n",
       "      <td>World Heritage Site</td>\n",
       "      <td>Salonga National Park</td>\n",
       "      <td>MULTIPOLYGON (((-232098.079 9841803.930, -2320...</td>\n",
       "    </tr>\n",
       "    <tr>\n",
       "      <th>44</th>\n",
       "      <td>World Heritage Site</td>\n",
       "      <td>Virunga National Park</td>\n",
       "      <td>MULTIPOLYGON (((829296.669 10103303.558, 82941...</td>\n",
       "    </tr>\n",
       "  </tbody>\n",
       "</table>\n",
       "</div>"
      ],
      "text/plain": [
       "                                           DESIG_ENG  \\\n",
       "0            Classified Forest and Community Reserve   \n",
       "1   Ramsar Site, Wetland of International Importance   \n",
       "2                                 Scientific Reserve   \n",
       "3                           Integrale Nature Reserve   \n",
       "4                       UNESCO-MAB Biosphere Reserve   \n",
       "5                                     Nature Reserve   \n",
       "6                                      National Park   \n",
       "7                                     Nature Reserve   \n",
       "8                                     Nature Reserve   \n",
       "9                                      National Park   \n",
       "10                                     National Park   \n",
       "11                                     National Park   \n",
       "12                                     National Park   \n",
       "13                                     National Park   \n",
       "14                                      Hunting Area   \n",
       "15                                      Hunting Area   \n",
       "16                                      Not Reported   \n",
       "17                                      Not Reported   \n",
       "18                                      Hunting Area   \n",
       "19                                  Wildlife Reserve   \n",
       "20                                           Reserve   \n",
       "21                                      Hunting Area   \n",
       "22                                      Hunting Area   \n",
       "23                                    Nature Reserve   \n",
       "24                                      Hunting Area   \n",
       "25                                     National Park   \n",
       "26                            Primate Nature Reserve   \n",
       "27                                    Nature Reserve   \n",
       "28                                      Hunting Area   \n",
       "29                                      Hunting Area   \n",
       "30                                 Biosphere Reserve   \n",
       "31                                 Biosphere Reserve   \n",
       "32                                 Biosphere Reserve   \n",
       "33                                    Nature Reserve   \n",
       "34                                  Wildlife Reserve   \n",
       "35                                    Nature Reserve   \n",
       "36                                      Hunting Area   \n",
       "37                                     National Park   \n",
       "38                                      Hunting Area   \n",
       "39                                    Nature Reserve   \n",
       "40                               World Heritage Site   \n",
       "41                               World Heritage Site   \n",
       "42                               World Heritage Site   \n",
       "43                               World Heritage Site   \n",
       "44                               World Heritage Site   \n",
       "\n",
       "                                      NAME  \\\n",
       "0         Lyondji Bonobo Community Reserve   \n",
       "1                Parc national des Virunga   \n",
       "2                   Luo Scientific Reserve   \n",
       "3                                  Salonga   \n",
       "4               Réserve forestière de Luki   \n",
       "5   Mangrove Nature Reserve or Marine Park   \n",
       "6                 Parc Marin des Mangroves   \n",
       "7                                   Mangai   \n",
       "8                    Tshangalele - Kolwezi   \n",
       "9                             Kahuzi-Biega   \n",
       "10                                 Garamba   \n",
       "11                                  Upemba   \n",
       "12                                   Maiko   \n",
       "13                              Kundelungu   \n",
       "14                              Swa-Kibula   \n",
       "15                               Bushimaie   \n",
       "16                            Bombo Lumene   \n",
       "17                               Bili-Uere   \n",
       "18                               Rubi-Tele   \n",
       "19                                   Okapi   \n",
       "20                              Abumonbazi   \n",
       "21                        Gangala-na Bodio   \n",
       "22                             Maika-Penge   \n",
       "23                                   Tayna   \n",
       "24                           Lubudi-Sampwe   \n",
       "25                                  N'Sele   \n",
       "26                           Kisimba Ikobo   \n",
       "27                                 Sankuru   \n",
       "28                                    Bomu   \n",
       "29                              Luama-Kivu   \n",
       "30                                  Lufira   \n",
       "31                                    Luki   \n",
       "32                                Yangambi   \n",
       "33                         Lomako-Yokokala   \n",
       "34                                    Bomu   \n",
       "35                           Tumba-Lediima   \n",
       "36                                Rutshuru   \n",
       "37                                 Virunga   \n",
       "38                           Luama-Katanga   \n",
       "39                                 Itombwe   \n",
       "40                   Garamba National Park   \n",
       "41              Kahuzi-Biega National Park   \n",
       "42                  Okapi Wildlife Reserve   \n",
       "43                   Salonga National Park   \n",
       "44                   Virunga National Park   \n",
       "\n",
       "                                             geometry  \n",
       "0   MULTIPOLYGON (((30396.594 10020600.079, 30542....  \n",
       "1   MULTIPOLYGON (((735540.644 9817696.449, 735598...  \n",
       "2   MULTIPOLYGON (((6196.581 10027613.404, 6856.29...  \n",
       "3   MULTIPOLYGON (((-227210.952 9829733.977, -2271...  \n",
       "4   MULTIPOLYGON (((-1038605.456 9373038.040, -103...  \n",
       "5   MULTIPOLYGON (((-1134038.340 9322070.594, -112...  \n",
       "6   MULTIPOLYGON (((-1112314.327 9319142.330, -111...  \n",
       "7   MULTIPOLYGON (((-281442.375 9382457.901, -2793...  \n",
       "8   MULTIPOLYGON (((308010.087 8805632.930, 293876...  \n",
       "9   MULTIPOLYGON (((597783.510 9817233.531, 598593...  \n",
       "10  MULTIPOLYGON (((783575.067 10515555.262, 78391...  \n",
       "11  MULTIPOLYGON (((489438.480 8979820.809, 489354...  \n",
       "12  MULTIPOLYGON (((623999.084 10013856.767, 62769...  \n",
       "13  MULTIPOLYGON (((610202.744 8772814.243, 609663...  \n",
       "14  MULTIPOLYGON (((-560373.895 9119267.998, -5604...  \n",
       "15  MULTIPOLYGON (((81292.111 9231528.130, 89017.9...  \n",
       "16  MULTIPOLYGON (((-730762.690 9517147.542, -7300...  \n",
       "17  MULTIPOLYGON (((48185.382 10519738.366, 53258....  \n",
       "18  MULTIPOLYGON (((374780.348 10307855.174, 38413...  \n",
       "19  MULTIPOLYGON (((688652.020 10273853.058, 68874...  \n",
       "20  MULTIPOLYGON (((-111322.172 10380478.682, -128...  \n",
       "21  MULTIPOLYGON (((777392.658 10518627.766, 77968...  \n",
       "22  MULTIPOLYGON (((662062.807 10334331.574, 67064...  \n",
       "23  MULTIPOLYGON (((690375.861 9939808.093, 690278...  \n",
       "24  MULTIPOLYGON (((499090.276 8980681.825, 502393...  \n",
       "25  MULTIPOLYGON (((-802042.107 9511813.890, -7996...  \n",
       "26  MULTIPOLYGON (((681007.247 9939231.642, 682107...  \n",
       "27  MULTIPOLYGON (((169569.805 9812314.582, 179901...  \n",
       "28  MULTIPOLYGON (((421934.618 10569870.250, 42081...  \n",
       "29  MULTIPOLYGON (((651851.513 9478421.254, 639180...  \n",
       "30  MULTIPOLYGON (((492919.990 8762022.167, 492414...  \n",
       "31  MULTIPOLYGON (((-1048299.536 9375763.746, -104...  \n",
       "32  MULTIPOLYGON (((246941.181 10118571.049, 25132...  \n",
       "33  MULTIPOLYGON (((-128768.218 10134396.974, -127...  \n",
       "34  MULTIPOLYGON (((288000.860 10546099.877, 28895...  \n",
       "35  MULTIPOLYGON (((-532535.717 9910984.631, -5321...  \n",
       "36  MULTIPOLYGON (((792477.992 9919575.057, 792490...  \n",
       "37  MULTIPOLYGON (((735540.701 9817696.330, 735598...  \n",
       "38  MULTIPOLYGON (((733457.615 9361233.840, 732744...  \n",
       "39  MULTIPOLYGON (((642087.081 9622399.171, 641768...  \n",
       "40  MULTIPOLYGON (((783712.965 10515664.949, 78406...  \n",
       "41  MULTIPOLYGON (((582742.136 9820152.225, 582846...  \n",
       "42  MULTIPOLYGON (((688652.020 10273853.058, 68874...  \n",
       "43  MULTIPOLYGON (((-232098.079 9841803.930, -2320...  \n",
       "44  MULTIPOLYGON (((829296.669 10103303.558, 82941...  "
      ]
     },
     "execution_count": 125,
     "metadata": {},
     "output_type": "execute_result"
    }
   ],
   "source": [
    "national_parks_utm"
   ]
  },
  {
   "cell_type": "code",
   "execution_count": 124,
   "metadata": {},
   "outputs": [
    {
     "data": {
      "text/html": [
       "<div>\n",
       "<style scoped>\n",
       "    .dataframe tbody tr th:only-of-type {\n",
       "        vertical-align: middle;\n",
       "    }\n",
       "\n",
       "    .dataframe tbody tr th {\n",
       "        vertical-align: top;\n",
       "    }\n",
       "\n",
       "    .dataframe thead th {\n",
       "        text-align: right;\n",
       "    }\n",
       "</style>\n",
       "<table border=\"1\" class=\"dataframe\">\n",
       "  <thead>\n",
       "    <tr style=\"text-align: right;\">\n",
       "      <th></th>\n",
       "      <th>visit_date</th>\n",
       "      <th>name</th>\n",
       "      <th>n_workers</th>\n",
       "      <th>mineral</th>\n",
       "      <th>geometry</th>\n",
       "    </tr>\n",
       "  </thead>\n",
       "  <tbody>\n",
       "    <tr>\n",
       "      <th>0</th>\n",
       "      <td>2013-03-27</td>\n",
       "      <td>Mayi-Tatu</td>\n",
       "      <td>150.0</td>\n",
       "      <td>Gold</td>\n",
       "      <td>POINT (796089.416 10111855.174)</td>\n",
       "    </tr>\n",
       "    <tr>\n",
       "      <th>1</th>\n",
       "      <td>2013-03-27</td>\n",
       "      <td>Mabanga</td>\n",
       "      <td>115.0</td>\n",
       "      <td>Gold</td>\n",
       "      <td>POINT (795899.664 10110990.840)</td>\n",
       "    </tr>\n",
       "    <tr>\n",
       "      <th>2</th>\n",
       "      <td>2013-03-27</td>\n",
       "      <td>Molende</td>\n",
       "      <td>130.0</td>\n",
       "      <td>Gold</td>\n",
       "      <td>POINT (795641.707 10109059.787)</td>\n",
       "    </tr>\n",
       "    <tr>\n",
       "      <th>3</th>\n",
       "      <td>2013-03-27</td>\n",
       "      <td>Embouchure</td>\n",
       "      <td>135.0</td>\n",
       "      <td>Gold</td>\n",
       "      <td>POINT (794376.309 10110622.250)</td>\n",
       "    </tr>\n",
       "    <tr>\n",
       "      <th>4</th>\n",
       "      <td>2013-03-27</td>\n",
       "      <td>Apumu-Atandele-Jerusalem-Luka Yayo</td>\n",
       "      <td>270.0</td>\n",
       "      <td>Gold</td>\n",
       "      <td>POINT (796057.504 10105781.548)</td>\n",
       "    </tr>\n",
       "    <tr>\n",
       "      <th>...</th>\n",
       "      <td>...</td>\n",
       "      <td>...</td>\n",
       "      <td>...</td>\n",
       "      <td>...</td>\n",
       "      <td>...</td>\n",
       "    </tr>\n",
       "    <tr>\n",
       "      <th>2138</th>\n",
       "      <td>2017-12-14</td>\n",
       "      <td>G4</td>\n",
       "      <td>150.0</td>\n",
       "      <td>Cassiterite</td>\n",
       "      <td>POINT (563553.658 9744447.722)</td>\n",
       "    </tr>\n",
       "    <tr>\n",
       "      <th>2139</th>\n",
       "      <td>2017-08-28</td>\n",
       "      <td>Busonga</td>\n",
       "      <td>5.0</td>\n",
       "      <td>Coltan</td>\n",
       "      <td>POINT (731723.859 9780128.598)</td>\n",
       "    </tr>\n",
       "    <tr>\n",
       "      <th>2140</th>\n",
       "      <td>2017-08-28</td>\n",
       "      <td>Buterere/Jolie</td>\n",
       "      <td>15.0</td>\n",
       "      <td>Wolframite</td>\n",
       "      <td>POINT (732096.620 9779660.636)</td>\n",
       "    </tr>\n",
       "    <tr>\n",
       "      <th>2141</th>\n",
       "      <td>2017-08-30</td>\n",
       "      <td>Rusengasi</td>\n",
       "      <td>80.0</td>\n",
       "      <td>Cassiterite</td>\n",
       "      <td>POINT (728652.127 9751207.676)</td>\n",
       "    </tr>\n",
       "    <tr>\n",
       "      <th>2142</th>\n",
       "      <td>2017-08-31</td>\n",
       "      <td>Kambasha</td>\n",
       "      <td>37.0</td>\n",
       "      <td>Cassiterite</td>\n",
       "      <td>POINT (729069.101 9750106.765)</td>\n",
       "    </tr>\n",
       "  </tbody>\n",
       "</table>\n",
       "<p>2143 rows × 5 columns</p>\n",
       "</div>"
      ],
      "text/plain": [
       "      visit_date                                name  n_workers      mineral  \\\n",
       "0     2013-03-27                           Mayi-Tatu      150.0         Gold   \n",
       "1     2013-03-27                             Mabanga      115.0         Gold   \n",
       "2     2013-03-27                             Molende      130.0         Gold   \n",
       "3     2013-03-27                          Embouchure      135.0         Gold   \n",
       "4     2013-03-27  Apumu-Atandele-Jerusalem-Luka Yayo      270.0         Gold   \n",
       "...          ...                                 ...        ...          ...   \n",
       "2138  2017-12-14                                  G4      150.0  Cassiterite   \n",
       "2139  2017-08-28                             Busonga        5.0       Coltan   \n",
       "2140  2017-08-28                      Buterere/Jolie       15.0   Wolframite   \n",
       "2141  2017-08-30                           Rusengasi       80.0  Cassiterite   \n",
       "2142  2017-08-31                            Kambasha       37.0  Cassiterite   \n",
       "\n",
       "                             geometry  \n",
       "0     POINT (796089.416 10111855.174)  \n",
       "1     POINT (795899.664 10110990.840)  \n",
       "2     POINT (795641.707 10109059.787)  \n",
       "3     POINT (794376.309 10110622.250)  \n",
       "4     POINT (796057.504 10105781.548)  \n",
       "...                               ...  \n",
       "2138   POINT (563553.658 9744447.722)  \n",
       "2139   POINT (731723.859 9780128.598)  \n",
       "2140   POINT (732096.620 9779660.636)  \n",
       "2141   POINT (728652.127 9751207.676)  \n",
       "2142   POINT (729069.101 9750106.765)  \n",
       "\n",
       "[2143 rows x 5 columns]"
      ]
     },
     "execution_count": 124,
     "metadata": {},
     "output_type": "execute_result"
    }
   ],
   "source": [
    "mining_sites_utm"
   ]
  },
  {
   "cell_type": "code",
   "execution_count": 123,
   "metadata": {},
   "outputs": [
    {
     "data": {
      "text/html": [
       "<div>\n",
       "<style scoped>\n",
       "    .dataframe tbody tr th:only-of-type {\n",
       "        vertical-align: middle;\n",
       "    }\n",
       "\n",
       "    .dataframe tbody tr th {\n",
       "        vertical-align: top;\n",
       "    }\n",
       "\n",
       "    .dataframe thead th {\n",
       "        text-align: right;\n",
       "    }\n",
       "</style>\n",
       "<table border=\"1\" class=\"dataframe\">\n",
       "  <thead>\n",
       "    <tr style=\"text-align: right;\">\n",
       "      <th></th>\n",
       "      <th>visit_date</th>\n",
       "      <th>name</th>\n",
       "      <th>n_workers</th>\n",
       "      <th>mineral</th>\n",
       "      <th>geometry</th>\n",
       "      <th>index_right</th>\n",
       "      <th>DESIG_ENG</th>\n",
       "      <th>NAME</th>\n",
       "    </tr>\n",
       "  </thead>\n",
       "  <tbody>\n",
       "    <tr>\n",
       "      <th>253</th>\n",
       "      <td>2013-09-05</td>\n",
       "      <td>Kiviri/Tayna</td>\n",
       "      <td>244.0</td>\n",
       "      <td>Gold</td>\n",
       "      <td>POINT (709734.913 9961013.720)</td>\n",
       "      <td>23</td>\n",
       "      <td>Nature Reserve</td>\n",
       "      <td>Tayna</td>\n",
       "    </tr>\n",
       "    <tr>\n",
       "      <th>578</th>\n",
       "      <td>2015-09-02</td>\n",
       "      <td>Lubondozi 3</td>\n",
       "      <td>30.0</td>\n",
       "      <td>Gold</td>\n",
       "      <td>POINT (578464.315 9555456.293)</td>\n",
       "      <td>29</td>\n",
       "      <td>Hunting Area</td>\n",
       "      <td>Luama-Kivu</td>\n",
       "    </tr>\n",
       "    <tr>\n",
       "      <th>579</th>\n",
       "      <td>2015-09-02</td>\n",
       "      <td>Katamu</td>\n",
       "      <td>180.0</td>\n",
       "      <td>Gold</td>\n",
       "      <td>POINT (576249.903 9554313.725)</td>\n",
       "      <td>29</td>\n",
       "      <td>Hunting Area</td>\n",
       "      <td>Luama-Kivu</td>\n",
       "    </tr>\n",
       "    <tr>\n",
       "      <th>580</th>\n",
       "      <td>2015-09-02</td>\n",
       "      <td>Kimabwe 1</td>\n",
       "      <td>120.0</td>\n",
       "      <td>Gold</td>\n",
       "      <td>POINT (576425.777 9556329.634)</td>\n",
       "      <td>29</td>\n",
       "      <td>Hunting Area</td>\n",
       "      <td>Luama-Kivu</td>\n",
       "    </tr>\n",
       "    <tr>\n",
       "      <th>581</th>\n",
       "      <td>2015-09-02</td>\n",
       "      <td>Lubondozi 1</td>\n",
       "      <td>300.0</td>\n",
       "      <td>Gold</td>\n",
       "      <td>POINT (579164.711 9554722.924)</td>\n",
       "      <td>29</td>\n",
       "      <td>Hunting Area</td>\n",
       "      <td>Luama-Kivu</td>\n",
       "    </tr>\n",
       "    <tr>\n",
       "      <th>...</th>\n",
       "      <td>...</td>\n",
       "      <td>...</td>\n",
       "      <td>...</td>\n",
       "      <td>...</td>\n",
       "      <td>...</td>\n",
       "      <td>...</td>\n",
       "      <td>...</td>\n",
       "      <td>...</td>\n",
       "    </tr>\n",
       "    <tr>\n",
       "      <th>1731</th>\n",
       "      <td>2015-10-10</td>\n",
       "      <td>Muyembi</td>\n",
       "      <td>80.0</td>\n",
       "      <td>Gold</td>\n",
       "      <td>POINT (674695.485 10114220.820)</td>\n",
       "      <td>42</td>\n",
       "      <td>World Heritage Site</td>\n",
       "      <td>Okapi Wildlife Reserve</td>\n",
       "    </tr>\n",
       "    <tr>\n",
       "      <th>1734</th>\n",
       "      <td>2015-10-10</td>\n",
       "      <td>Paradiso</td>\n",
       "      <td>85.0</td>\n",
       "      <td>Gold</td>\n",
       "      <td>POINT (680595.915 10111238.259)</td>\n",
       "      <td>42</td>\n",
       "      <td>World Heritage Site</td>\n",
       "      <td>Okapi Wildlife Reserve</td>\n",
       "    </tr>\n",
       "    <tr>\n",
       "      <th>1247</th>\n",
       "      <td>2015-06-29</td>\n",
       "      <td>Ujumo Kopa</td>\n",
       "      <td>192.0</td>\n",
       "      <td>Gold</td>\n",
       "      <td>POINT (591129.707 9917867.683)</td>\n",
       "      <td>12</td>\n",
       "      <td>National Park</td>\n",
       "      <td>Maiko</td>\n",
       "    </tr>\n",
       "    <tr>\n",
       "      <th>1273</th>\n",
       "      <td>2015-11-03</td>\n",
       "      <td>Angumu (rivière)</td>\n",
       "      <td>51.0</td>\n",
       "      <td>Gold</td>\n",
       "      <td>POINT (581603.568 9983419.125)</td>\n",
       "      <td>12</td>\n",
       "      <td>National Park</td>\n",
       "      <td>Maiko</td>\n",
       "    </tr>\n",
       "    <tr>\n",
       "      <th>1340</th>\n",
       "      <td>2010-01-01</td>\n",
       "      <td>Maisha</td>\n",
       "      <td>250.0</td>\n",
       "      <td>Gold</td>\n",
       "      <td>POINT (539481.512 9970198.975)</td>\n",
       "      <td>12</td>\n",
       "      <td>National Park</td>\n",
       "      <td>Maiko</td>\n",
       "    </tr>\n",
       "  </tbody>\n",
       "</table>\n",
       "<p>68 rows × 8 columns</p>\n",
       "</div>"
      ],
      "text/plain": [
       "      visit_date              name  n_workers mineral  \\\n",
       "253   2013-09-05      Kiviri/Tayna      244.0    Gold   \n",
       "578   2015-09-02       Lubondozi 3       30.0    Gold   \n",
       "579   2015-09-02            Katamu      180.0    Gold   \n",
       "580   2015-09-02         Kimabwe 1      120.0    Gold   \n",
       "581   2015-09-02       Lubondozi 1      300.0    Gold   \n",
       "...          ...               ...        ...     ...   \n",
       "1731  2015-10-10           Muyembi       80.0    Gold   \n",
       "1734  2015-10-10          Paradiso       85.0    Gold   \n",
       "1247  2015-06-29        Ujumo Kopa      192.0    Gold   \n",
       "1273  2015-11-03  Angumu (rivière)       51.0    Gold   \n",
       "1340  2010-01-01            Maisha      250.0    Gold   \n",
       "\n",
       "                             geometry  index_right            DESIG_ENG  \\\n",
       "253    POINT (709734.913 9961013.720)           23       Nature Reserve   \n",
       "578    POINT (578464.315 9555456.293)           29         Hunting Area   \n",
       "579    POINT (576249.903 9554313.725)           29         Hunting Area   \n",
       "580    POINT (576425.777 9556329.634)           29         Hunting Area   \n",
       "581    POINT (579164.711 9554722.924)           29         Hunting Area   \n",
       "...                               ...          ...                  ...   \n",
       "1731  POINT (674695.485 10114220.820)           42  World Heritage Site   \n",
       "1734  POINT (680595.915 10111238.259)           42  World Heritage Site   \n",
       "1247   POINT (591129.707 9917867.683)           12        National Park   \n",
       "1273   POINT (581603.568 9983419.125)           12        National Park   \n",
       "1340   POINT (539481.512 9970198.975)           12        National Park   \n",
       "\n",
       "                        NAME  \n",
       "253                    Tayna  \n",
       "578               Luama-Kivu  \n",
       "579               Luama-Kivu  \n",
       "580               Luama-Kivu  \n",
       "581               Luama-Kivu  \n",
       "...                      ...  \n",
       "1731  Okapi Wildlife Reserve  \n",
       "1734  Okapi Wildlife Reserve  \n",
       "1247                   Maiko  \n",
       "1273                   Maiko  \n",
       "1340                   Maiko  \n",
       "\n",
       "[68 rows x 8 columns]"
      ]
     },
     "execution_count": 123,
     "metadata": {},
     "output_type": "execute_result"
    }
   ],
   "source": [
    "sites_within_park = geopandas.sjoin(mining_sites_utm, national_parks_utm, predicate='within', how='inner')\n",
    "sites_within_park"
   ]
  },
  {
   "cell_type": "code",
   "execution_count": 128,
   "metadata": {},
   "outputs": [
    {
     "data": {
      "text/plain": [
       "array(['Kiviri/Tayna', 'Lubondozi 3', 'Katamu', 'Kimabwe 1',\n",
       "       'Lubondozi 1', 'Lubondozi 2', 'Tchangobo', 'Kamungazi katamu',\n",
       "       'Kimabwe 2', 'Lubondozi 4', 'Ibozia/Kalumé', 'Matamba',\n",
       "       'Mutete/Mukina', 'Mutete', 'Mazankala', 'Kitendebwa',\n",
       "       'Sebwa-Lukoma', 'Rwamakaza', 'Mugaba I', 'Mugaba Ouest',\n",
       "       'Nguba(Nkuba) kamisoke', 'Kananga', 'Nzombe', 'Bitonde foret',\n",
       "       'Kakanga', 'Kasenge', 'Katotela', 'Makenda1', 'Mayimoto', 'Miki 2',\n",
       "       'Miki 4', 'Miki 5', 'Nguza', 'Kiandjo', 'Mayengo', 'Cigubi',\n",
       "       'Mwana', 'Colline 7', 'Shakatembo', 'Colline 5', 'Kiwandawanda',\n",
       "       'Lugundu', 'Colline 4', 'Kenya', 'Mulolwa', 'Shibukumba', 'Kalemi',\n",
       "       'Nganda', 'Muchacha', 'Muyembi', 'Paradiso', 'Ujumo Kopa',\n",
       "       'Angumu (rivière)', 'Maisha'], dtype=object)"
      ]
     },
     "execution_count": 128,
     "metadata": {},
     "output_type": "execute_result"
    }
   ],
   "source": [
    "sites_within_park.name.unique()"
   ]
  },
  {
   "cell_type": "code",
   "execution_count": 141,
   "metadata": {},
   "outputs": [
    {
     "data": {
      "text/plain": [
       "visit_date                                      2013-03-27\n",
       "name                                             Mayi-Tatu\n",
       "n_workers                                            150.0\n",
       "mineral                                               Gold\n",
       "geometry      POINT (796089.4159891906 10111855.174263744)\n",
       "Name: 0, dtype: object"
      ]
     },
     "execution_count": 141,
     "metadata": {},
     "output_type": "execute_result"
    }
   ],
   "source": [
    "mining_sites_utm.loc[0]"
   ]
  },
  {
   "cell_type": "code",
   "execution_count": 138,
   "metadata": {},
   "outputs": [],
   "source": [
    "single_mine = mining_sites_utm.loc[0,\"geometry\"]"
   ]
  },
  {
   "cell_type": "code",
   "execution_count": 140,
   "metadata": {},
   "outputs": [
    {
     "name": "stdout",
     "output_type": "stream",
     "text": [
      "POINT (796089.4159891906 10111855.174263744)\n"
     ]
    }
   ],
   "source": [
    "print(single_mine)"
   ]
  },
  {
   "cell_type": "code",
   "execution_count": 142,
   "metadata": {},
   "outputs": [],
   "source": [
    "dist = national_parks_utm.distance(single_mine)"
   ]
  },
  {
   "cell_type": "code",
   "execution_count": 143,
   "metadata": {},
   "outputs": [
    {
     "data": {
      "text/plain": [
       "0     7.305166e+05\n",
       "1     2.156737e+04\n",
       "2     7.805325e+05\n",
       "3     8.410806e+05\n",
       "4     1.977867e+06\n",
       "5     2.033133e+06\n",
       "6     2.065059e+06\n",
       "7     1.287711e+06\n",
       "8     1.365293e+06\n",
       "9     3.479939e+05\n",
       "10    3.021341e+05\n",
       "11    1.081372e+06\n",
       "12    1.594780e+05\n",
       "13    1.167624e+06\n",
       "14    1.649761e+06\n",
       "15    1.133980e+06\n",
       "16    1.620460e+06\n",
       "17    4.837185e+05\n",
       "18    4.537492e+05\n",
       "19    8.370019e+04\n",
       "20    9.295885e+05\n",
       "21    2.521048e+05\n",
       "22    2.217272e+05\n",
       "23    1.578643e+05\n",
       "24    1.166480e+06\n",
       "25    1.702607e+06\n",
       "26    1.942011e+05\n",
       "27    6.431577e+05\n",
       "28    5.689090e+05\n",
       "29    5.648862e+05\n",
       "30    1.354571e+06\n",
       "31    1.975936e+06\n",
       "32    5.229051e+05\n",
       "33    8.910110e+05\n",
       "34    6.318370e+05\n",
       "35    1.340168e+06\n",
       "36    1.922936e+05\n",
       "37    2.156707e+04\n",
       "38    6.704671e+05\n",
       "39    4.382726e+05\n",
       "40    2.983529e+05\n",
       "41    3.477744e+05\n",
       "42    8.370019e+04\n",
       "43    8.402286e+05\n",
       "44    2.156737e+04\n",
       "dtype: float64"
      ]
     },
     "execution_count": 143,
     "metadata": {},
     "output_type": "execute_result"
    }
   ],
   "source": [
    "dist"
   ]
  },
  {
   "cell_type": "code",
   "execution_count": 151,
   "metadata": {},
   "outputs": [
    {
     "data": {
      "text/plain": [
       "21567.07274475195"
      ]
     },
     "execution_count": 151,
     "metadata": {},
     "output_type": "execute_result"
    }
   ],
   "source": [
    "dist.min()"
   ]
  },
  {
   "cell_type": "code",
   "execution_count": 150,
   "metadata": {},
   "outputs": [
    {
     "data": {
      "text/plain": [
       "221727.16323582426"
      ]
     },
     "execution_count": 150,
     "metadata": {},
     "output_type": "execute_result"
    }
   ],
   "source": [
    "dist[22]"
   ]
  },
  {
   "cell_type": "code",
   "execution_count": 152,
   "metadata": {},
   "outputs": [],
   "source": [
    "idx = dist.idxmin()"
   ]
  },
  {
   "cell_type": "code",
   "execution_count": 153,
   "metadata": {},
   "outputs": [
    {
     "data": {
      "text/plain": [
       "37"
      ]
     },
     "execution_count": 153,
     "metadata": {},
     "output_type": "execute_result"
    }
   ],
   "source": [
    "idx"
   ]
  },
  {
   "cell_type": "code",
   "execution_count": 156,
   "metadata": {},
   "outputs": [
    {
     "data": {
      "text/plain": [
       "'Virunga'"
      ]
     },
     "execution_count": 156,
     "metadata": {},
     "output_type": "execute_result"
    }
   ],
   "source": [
    "closest_park=national_parks_utm.loc[idx,\"NAME\"]\n",
    "closest_park"
   ]
  },
  {
   "cell_type": "code",
   "execution_count": 160,
   "metadata": {},
   "outputs": [],
   "source": [
    "def closest_national_park(geom, national_parks):\n",
    "    dist = national_parks.distance(geom)\n",
    "    idx = dist.idxmin()\n",
    "    closest_park = national_parks.loc[idx,\"NAME\"]\n",
    "    return closest_park"
   ]
  },
  {
   "cell_type": "code",
   "execution_count": 161,
   "metadata": {},
   "outputs": [
    {
     "data": {
      "text/plain": [
       "'Virunga'"
      ]
     },
     "execution_count": 161,
     "metadata": {},
     "output_type": "execute_result"
    }
   ],
   "source": [
    "closest_national_park(single_mine,national_parks_utm)"
   ]
  },
  {
   "cell_type": "code",
   "execution_count": 162,
   "metadata": {},
   "outputs": [
    {
     "data": {
      "text/plain": [
       "0       POINT (796089.416 10111855.174)\n",
       "1       POINT (795899.664 10110990.840)\n",
       "2       POINT (795641.707 10109059.787)\n",
       "3       POINT (794376.309 10110622.250)\n",
       "4       POINT (796057.504 10105781.548)\n",
       "                     ...               \n",
       "2138     POINT (563553.658 9744447.722)\n",
       "2139     POINT (731723.859 9780128.598)\n",
       "2140     POINT (732096.620 9779660.636)\n",
       "2141     POINT (728652.127 9751207.676)\n",
       "2142     POINT (729069.101 9750106.765)\n",
       "Name: geometry, Length: 2143, dtype: geometry"
      ]
     },
     "execution_count": 162,
     "metadata": {},
     "output_type": "execute_result"
    }
   ],
   "source": [
    "mining_sites_utm.geometry"
   ]
  },
  {
   "cell_type": "code",
   "execution_count": 164,
   "metadata": {},
   "outputs": [],
   "source": [
    "mining_sites_utm['closest_park']=mining_sites_utm.geometry.apply(closest_national_park, national_parks=national_parks_utm)"
   ]
  },
  {
   "cell_type": "code",
   "execution_count": 165,
   "metadata": {},
   "outputs": [
    {
     "data": {
      "text/html": [
       "<div>\n",
       "<style scoped>\n",
       "    .dataframe tbody tr th:only-of-type {\n",
       "        vertical-align: middle;\n",
       "    }\n",
       "\n",
       "    .dataframe tbody tr th {\n",
       "        vertical-align: top;\n",
       "    }\n",
       "\n",
       "    .dataframe thead th {\n",
       "        text-align: right;\n",
       "    }\n",
       "</style>\n",
       "<table border=\"1\" class=\"dataframe\">\n",
       "  <thead>\n",
       "    <tr style=\"text-align: right;\">\n",
       "      <th></th>\n",
       "      <th>visit_date</th>\n",
       "      <th>name</th>\n",
       "      <th>n_workers</th>\n",
       "      <th>mineral</th>\n",
       "      <th>geometry</th>\n",
       "      <th>closest_park</th>\n",
       "    </tr>\n",
       "  </thead>\n",
       "  <tbody>\n",
       "    <tr>\n",
       "      <th>0</th>\n",
       "      <td>2013-03-27</td>\n",
       "      <td>Mayi-Tatu</td>\n",
       "      <td>150.0</td>\n",
       "      <td>Gold</td>\n",
       "      <td>POINT (796089.416 10111855.174)</td>\n",
       "      <td>Virunga</td>\n",
       "    </tr>\n",
       "    <tr>\n",
       "      <th>1</th>\n",
       "      <td>2013-03-27</td>\n",
       "      <td>Mabanga</td>\n",
       "      <td>115.0</td>\n",
       "      <td>Gold</td>\n",
       "      <td>POINT (795899.664 10110990.840)</td>\n",
       "      <td>Virunga</td>\n",
       "    </tr>\n",
       "    <tr>\n",
       "      <th>2</th>\n",
       "      <td>2013-03-27</td>\n",
       "      <td>Molende</td>\n",
       "      <td>130.0</td>\n",
       "      <td>Gold</td>\n",
       "      <td>POINT (795641.707 10109059.787)</td>\n",
       "      <td>Virunga</td>\n",
       "    </tr>\n",
       "    <tr>\n",
       "      <th>3</th>\n",
       "      <td>2013-03-27</td>\n",
       "      <td>Embouchure</td>\n",
       "      <td>135.0</td>\n",
       "      <td>Gold</td>\n",
       "      <td>POINT (794376.309 10110622.250)</td>\n",
       "      <td>Virunga</td>\n",
       "    </tr>\n",
       "    <tr>\n",
       "      <th>4</th>\n",
       "      <td>2013-03-27</td>\n",
       "      <td>Apumu-Atandele-Jerusalem-Luka Yayo</td>\n",
       "      <td>270.0</td>\n",
       "      <td>Gold</td>\n",
       "      <td>POINT (796057.504 10105781.548)</td>\n",
       "      <td>Virunga</td>\n",
       "    </tr>\n",
       "    <tr>\n",
       "      <th>...</th>\n",
       "      <td>...</td>\n",
       "      <td>...</td>\n",
       "      <td>...</td>\n",
       "      <td>...</td>\n",
       "      <td>...</td>\n",
       "      <td>...</td>\n",
       "    </tr>\n",
       "    <tr>\n",
       "      <th>2138</th>\n",
       "      <td>2017-12-14</td>\n",
       "      <td>G4</td>\n",
       "      <td>150.0</td>\n",
       "      <td>Cassiterite</td>\n",
       "      <td>POINT (563553.658 9744447.722)</td>\n",
       "      <td>Kahuzi-Biega</td>\n",
       "    </tr>\n",
       "    <tr>\n",
       "      <th>2139</th>\n",
       "      <td>2017-08-28</td>\n",
       "      <td>Busonga</td>\n",
       "      <td>5.0</td>\n",
       "      <td>Coltan</td>\n",
       "      <td>POINT (731723.859 9780128.598)</td>\n",
       "      <td>Kahuzi-Biega</td>\n",
       "    </tr>\n",
       "    <tr>\n",
       "      <th>2140</th>\n",
       "      <td>2017-08-28</td>\n",
       "      <td>Buterere/Jolie</td>\n",
       "      <td>15.0</td>\n",
       "      <td>Wolframite</td>\n",
       "      <td>POINT (732096.620 9779660.636)</td>\n",
       "      <td>Kahuzi-Biega</td>\n",
       "    </tr>\n",
       "    <tr>\n",
       "      <th>2141</th>\n",
       "      <td>2017-08-30</td>\n",
       "      <td>Rusengasi</td>\n",
       "      <td>80.0</td>\n",
       "      <td>Cassiterite</td>\n",
       "      <td>POINT (728652.127 9751207.676)</td>\n",
       "      <td>Kahuzi-Biega</td>\n",
       "    </tr>\n",
       "    <tr>\n",
       "      <th>2142</th>\n",
       "      <td>2017-08-31</td>\n",
       "      <td>Kambasha</td>\n",
       "      <td>37.0</td>\n",
       "      <td>Cassiterite</td>\n",
       "      <td>POINT (729069.101 9750106.765)</td>\n",
       "      <td>Kahuzi-Biega</td>\n",
       "    </tr>\n",
       "  </tbody>\n",
       "</table>\n",
       "<p>2143 rows × 6 columns</p>\n",
       "</div>"
      ],
      "text/plain": [
       "      visit_date                                name  n_workers      mineral  \\\n",
       "0     2013-03-27                           Mayi-Tatu      150.0         Gold   \n",
       "1     2013-03-27                             Mabanga      115.0         Gold   \n",
       "2     2013-03-27                             Molende      130.0         Gold   \n",
       "3     2013-03-27                          Embouchure      135.0         Gold   \n",
       "4     2013-03-27  Apumu-Atandele-Jerusalem-Luka Yayo      270.0         Gold   \n",
       "...          ...                                 ...        ...          ...   \n",
       "2138  2017-12-14                                  G4      150.0  Cassiterite   \n",
       "2139  2017-08-28                             Busonga        5.0       Coltan   \n",
       "2140  2017-08-28                      Buterere/Jolie       15.0   Wolframite   \n",
       "2141  2017-08-30                           Rusengasi       80.0  Cassiterite   \n",
       "2142  2017-08-31                            Kambasha       37.0  Cassiterite   \n",
       "\n",
       "                             geometry  closest_park  \n",
       "0     POINT (796089.416 10111855.174)       Virunga  \n",
       "1     POINT (795899.664 10110990.840)       Virunga  \n",
       "2     POINT (795641.707 10109059.787)       Virunga  \n",
       "3     POINT (794376.309 10110622.250)       Virunga  \n",
       "4     POINT (796057.504 10105781.548)       Virunga  \n",
       "...                               ...           ...  \n",
       "2138   POINT (563553.658 9744447.722)  Kahuzi-Biega  \n",
       "2139   POINT (731723.859 9780128.598)  Kahuzi-Biega  \n",
       "2140   POINT (732096.620 9779660.636)  Kahuzi-Biega  \n",
       "2141   POINT (728652.127 9751207.676)  Kahuzi-Biega  \n",
       "2142   POINT (729069.101 9750106.765)  Kahuzi-Biega  \n",
       "\n",
       "[2143 rows x 6 columns]"
      ]
     },
     "execution_count": 165,
     "metadata": {},
     "output_type": "execute_result"
    }
   ],
   "source": [
    "mining_sites_utm"
   ]
  },
  {
   "cell_type": "code",
   "execution_count": 171,
   "metadata": {},
   "outputs": [],
   "source": [
    "src = rasterio.open(r\"D:\\Data\\trees_central-africa\\trees_central-africa\\trees_central-africa.tif\")"
   ]
  },
  {
   "cell_type": "code",
   "execution_count": 172,
   "metadata": {},
   "outputs": [
    {
     "data": {
      "text/plain": [
       "<open DatasetReader name='D:/Data/trees_central-africa/trees_central-africa/trees_central-africa.tif' mode='r'>"
      ]
     },
     "execution_count": 172,
     "metadata": {},
     "output_type": "execute_result"
    }
   ],
   "source": [
    "src"
   ]
  },
  {
   "cell_type": "code",
   "execution_count": 176,
   "metadata": {},
   "outputs": [
    {
     "data": {
      "image/png": "[encoded data removed]",
      "text/plain": [
       "<Figure size 640x480 with 1 Axes>"
      ]
     },
     "metadata": {},
     "output_type": "display_data"
    },
    {
     "data": {
      "text/plain": [
       "<Figure size 640x480 with 0 Axes>"
      ]
     },
     "metadata": {},
     "output_type": "display_data"
    }
   ],
   "source": [
    "ax=rasterio.plot.show(src)\n",
    "mining_sites_utm.plot(ax=ax,color=\"red\",markersize=1)\n",
    "plt.show()"
   ]
  },
  {
   "cell_type": "code",
   "execution_count": 195,
   "metadata": {},
   "outputs": [],
   "source": [
    "vegetation_raster = r\"D:\\Data\\trees_central-africa\\trees_central-africa\\trees_central-africa.tif\""
   ]
  },
  {
   "cell_type": "code",
   "execution_count": 196,
   "metadata": {},
   "outputs": [
    {
     "name": "stderr",
     "output_type": "stream",
     "text": [
      "c:\\Users\\Nevra\\anaconda3\\lib\\site-packages\\rasterstats\\io.py:335: NodataWarning: Setting nodata to -999; specify nodata explicitly\n",
      "  warnings.warn(\n"
     ]
    }
   ],
   "source": [
    "mining_sites_utm['vegetation'] = rasterstats.point_query(mining_sites_utm.geometry, vegetation_raster, interpolate='nearest')"
   ]
  },
  {
   "cell_type": "code",
   "execution_count": 197,
   "metadata": {},
   "outputs": [
    {
     "data": {
      "text/html": [
       "<div>\n",
       "<style scoped>\n",
       "    .dataframe tbody tr th:only-of-type {\n",
       "        vertical-align: middle;\n",
       "    }\n",
       "\n",
       "    .dataframe tbody tr th {\n",
       "        vertical-align: top;\n",
       "    }\n",
       "\n",
       "    .dataframe thead th {\n",
       "        text-align: right;\n",
       "    }\n",
       "</style>\n",
       "<table border=\"1\" class=\"dataframe\">\n",
       "  <thead>\n",
       "    <tr style=\"text-align: right;\">\n",
       "      <th></th>\n",
       "      <th>visit_date</th>\n",
       "      <th>name</th>\n",
       "      <th>n_workers</th>\n",
       "      <th>mineral</th>\n",
       "      <th>geometry</th>\n",
       "      <th>closest_park</th>\n",
       "      <th>vegetation</th>\n",
       "    </tr>\n",
       "  </thead>\n",
       "  <tbody>\n",
       "    <tr>\n",
       "      <th>0</th>\n",
       "      <td>2013-03-27</td>\n",
       "      <td>Mayi-Tatu</td>\n",
       "      <td>150.0</td>\n",
       "      <td>Gold</td>\n",
       "      <td>POINT (796089.416 10111855.174)</td>\n",
       "      <td>Virunga</td>\n",
       "      <td>None</td>\n",
       "    </tr>\n",
       "    <tr>\n",
       "      <th>1</th>\n",
       "      <td>2013-03-27</td>\n",
       "      <td>Mabanga</td>\n",
       "      <td>115.0</td>\n",
       "      <td>Gold</td>\n",
       "      <td>POINT (795899.664 10110990.840)</td>\n",
       "      <td>Virunga</td>\n",
       "      <td>None</td>\n",
       "    </tr>\n",
       "    <tr>\n",
       "      <th>2</th>\n",
       "      <td>2013-03-27</td>\n",
       "      <td>Molende</td>\n",
       "      <td>130.0</td>\n",
       "      <td>Gold</td>\n",
       "      <td>POINT (795641.707 10109059.787)</td>\n",
       "      <td>Virunga</td>\n",
       "      <td>None</td>\n",
       "    </tr>\n",
       "    <tr>\n",
       "      <th>3</th>\n",
       "      <td>2013-03-27</td>\n",
       "      <td>Embouchure</td>\n",
       "      <td>135.0</td>\n",
       "      <td>Gold</td>\n",
       "      <td>POINT (794376.309 10110622.250)</td>\n",
       "      <td>Virunga</td>\n",
       "      <td>None</td>\n",
       "    </tr>\n",
       "    <tr>\n",
       "      <th>4</th>\n",
       "      <td>2013-03-27</td>\n",
       "      <td>Apumu-Atandele-Jerusalem-Luka Yayo</td>\n",
       "      <td>270.0</td>\n",
       "      <td>Gold</td>\n",
       "      <td>POINT (796057.504 10105781.548)</td>\n",
       "      <td>Virunga</td>\n",
       "      <td>None</td>\n",
       "    </tr>\n",
       "  </tbody>\n",
       "</table>\n",
       "</div>"
      ],
      "text/plain": [
       "   visit_date                                name  n_workers mineral  \\\n",
       "0  2013-03-27                           Mayi-Tatu      150.0    Gold   \n",
       "1  2013-03-27                             Mabanga      115.0    Gold   \n",
       "2  2013-03-27                             Molende      130.0    Gold   \n",
       "3  2013-03-27                          Embouchure      135.0    Gold   \n",
       "4  2013-03-27  Apumu-Atandele-Jerusalem-Luka Yayo      270.0    Gold   \n",
       "\n",
       "                          geometry closest_park vegetation  \n",
       "0  POINT (796089.416 10111855.174)      Virunga       None  \n",
       "1  POINT (795899.664 10110990.840)      Virunga       None  \n",
       "2  POINT (795641.707 10109059.787)      Virunga       None  \n",
       "3  POINT (794376.309 10110622.250)      Virunga       None  \n",
       "4  POINT (796057.504 10105781.548)      Virunga       None  "
      ]
     },
     "execution_count": 197,
     "metadata": {},
     "output_type": "execute_result"
    }
   ],
   "source": [
    "mining_sites_utm.head()"
   ]
  },
  {
   "cell_type": "code",
   "execution_count": 200,
   "metadata": {},
   "outputs": [
    {
     "ename": "IndexError",
     "evalue": "index 0 is out of bounds for axis 0 with size 0",
     "output_type": "error",
     "traceback": [
      "\u001b[1;31m---------------------------------------------------------------------------\u001b[0m",
      "\u001b[1;31mIndexError\u001b[0m                                Traceback (most recent call last)",
      "\u001b[1;32m~\\AppData\\Local\\Temp\\ipykernel_10452\\960673574.py\u001b[0m in \u001b[0;36m<module>\u001b[1;34m\u001b[0m\n\u001b[1;32m----> 1\u001b[1;33m \u001b[0mmining_sites_utm\u001b[0m\u001b[1;33m.\u001b[0m\u001b[0mplot\u001b[0m\u001b[1;33m(\u001b[0m\u001b[0mcolumn\u001b[0m\u001b[1;33m=\u001b[0m\u001b[1;34m'vegetation'\u001b[0m\u001b[1;33m,\u001b[0m \u001b[0mlegend\u001b[0m\u001b[1;33m=\u001b[0m\u001b[1;32mTrue\u001b[0m\u001b[1;33m)\u001b[0m\u001b[1;33m\u001b[0m\u001b[1;33m\u001b[0m\u001b[0m\n\u001b[0m\u001b[0;32m      2\u001b[0m \u001b[0mplt\u001b[0m\u001b[1;33m.\u001b[0m\u001b[0mshow\u001b[0m\u001b[1;33m(\u001b[0m\u001b[1;33m)\u001b[0m\u001b[1;33m\u001b[0m\u001b[1;33m\u001b[0m\u001b[0m\n",
      "\u001b[1;32mc:\\Users\\Nevra\\anaconda3\\lib\\site-packages\\geopandas\\plotting.py\u001b[0m in \u001b[0;36m__call__\u001b[1;34m(self, *args, **kwargs)\u001b[0m\n\u001b[0;32m    966\u001b[0m         \u001b[0mkind\u001b[0m \u001b[1;33m=\u001b[0m \u001b[0mkwargs\u001b[0m\u001b[1;33m.\u001b[0m\u001b[0mpop\u001b[0m\u001b[1;33m(\u001b[0m\u001b[1;34m\"kind\"\u001b[0m\u001b[1;33m,\u001b[0m \u001b[1;34m\"geo\"\u001b[0m\u001b[1;33m)\u001b[0m\u001b[1;33m\u001b[0m\u001b[1;33m\u001b[0m\u001b[0m\n\u001b[0;32m    967\u001b[0m         \u001b[1;32mif\u001b[0m \u001b[0mkind\u001b[0m \u001b[1;33m==\u001b[0m \u001b[1;34m\"geo\"\u001b[0m\u001b[1;33m:\u001b[0m\u001b[1;33m\u001b[0m\u001b[1;33m\u001b[0m\u001b[0m\n\u001b[1;32m--> 968\u001b[1;33m             \u001b[1;32mreturn\u001b[0m \u001b[0mplot_dataframe\u001b[0m\u001b[1;33m(\u001b[0m\u001b[0mdata\u001b[0m\u001b[1;33m,\u001b[0m \u001b[1;33m*\u001b[0m\u001b[0margs\u001b[0m\u001b[1;33m,\u001b[0m \u001b[1;33m**\u001b[0m\u001b[0mkwargs\u001b[0m\u001b[1;33m)\u001b[0m\u001b[1;33m\u001b[0m\u001b[1;33m\u001b[0m\u001b[0m\n\u001b[0m\u001b[0;32m    969\u001b[0m         \u001b[1;32mif\u001b[0m \u001b[0mkind\u001b[0m \u001b[1;32min\u001b[0m \u001b[0mself\u001b[0m\u001b[1;33m.\u001b[0m\u001b[0m_pandas_kinds\u001b[0m\u001b[1;33m:\u001b[0m\u001b[1;33m\u001b[0m\u001b[1;33m\u001b[0m\u001b[0m\n\u001b[0;32m    970\u001b[0m             \u001b[1;31m# Access pandas plots\u001b[0m\u001b[1;33m\u001b[0m\u001b[1;33m\u001b[0m\u001b[0m\n",
      "\u001b[1;32mc:\\Users\\Nevra\\anaconda3\\lib\\site-packages\\geopandas\\plotting.py\u001b[0m in \u001b[0;36mplot_dataframe\u001b[1;34m(df, column, cmap, color, ax, cax, categorical, legend, scheme, k, vmin, vmax, markersize, figsize, legend_kwds, categories, classification_kwds, missing_kwds, aspect, **style_kwds)\u001b[0m\n\u001b[0;32m    824\u001b[0m     \u001b[1;32mif\u001b[0m \u001b[0mcategorical\u001b[0m\u001b[1;33m:\u001b[0m\u001b[1;33m\u001b[0m\u001b[1;33m\u001b[0m\u001b[0m\n\u001b[0;32m    825\u001b[0m         \u001b[1;32mfor\u001b[0m \u001b[0mn\u001b[0m \u001b[1;32min\u001b[0m \u001b[0mnp\u001b[0m\u001b[1;33m.\u001b[0m\u001b[0mwhere\u001b[0m\u001b[1;33m(\u001b[0m\u001b[0mnan_idx\u001b[0m\u001b[1;33m)\u001b[0m\u001b[1;33m[\u001b[0m\u001b[1;36m0\u001b[0m\u001b[1;33m]\u001b[0m\u001b[1;33m:\u001b[0m\u001b[1;33m\u001b[0m\u001b[1;33m\u001b[0m\u001b[0m\n\u001b[1;32m--> 826\u001b[1;33m             \u001b[0mvalues\u001b[0m \u001b[1;33m=\u001b[0m \u001b[0mnp\u001b[0m\u001b[1;33m.\u001b[0m\u001b[0minsert\u001b[0m\u001b[1;33m(\u001b[0m\u001b[0mvalues\u001b[0m\u001b[1;33m,\u001b[0m \u001b[0mn\u001b[0m\u001b[1;33m,\u001b[0m \u001b[0mvalues\u001b[0m\u001b[1;33m[\u001b[0m\u001b[1;36m0\u001b[0m\u001b[1;33m]\u001b[0m\u001b[1;33m)\u001b[0m\u001b[1;33m\u001b[0m\u001b[1;33m\u001b[0m\u001b[0m\n\u001b[0m\u001b[0;32m    827\u001b[0m \u001b[1;33m\u001b[0m\u001b[0m\n\u001b[0;32m    828\u001b[0m     \u001b[0mmn\u001b[0m \u001b[1;33m=\u001b[0m \u001b[0mvalues\u001b[0m\u001b[1;33m[\u001b[0m\u001b[1;33m~\u001b[0m\u001b[0mnp\u001b[0m\u001b[1;33m.\u001b[0m\u001b[0misnan\u001b[0m\u001b[1;33m(\u001b[0m\u001b[0mvalues\u001b[0m\u001b[1;33m)\u001b[0m\u001b[1;33m]\u001b[0m\u001b[1;33m.\u001b[0m\u001b[0mmin\u001b[0m\u001b[1;33m(\u001b[0m\u001b[1;33m)\u001b[0m \u001b[1;32mif\u001b[0m \u001b[0mvmin\u001b[0m \u001b[1;32mis\u001b[0m \u001b[1;32mNone\u001b[0m \u001b[1;32melse\u001b[0m \u001b[0mvmin\u001b[0m\u001b[1;33m\u001b[0m\u001b[1;33m\u001b[0m\u001b[0m\n",
      "\u001b[1;31mIndexError\u001b[0m: index 0 is out of bounds for axis 0 with size 0"
     ]
    },
    {
     "data": {
      "image/png": "[encoded data removed]",
      "text/plain": [
       "<Figure size 640x480 with 1 Axes>"
      ]
     },
     "metadata": {},
     "output_type": "display_data"
    }
   ],
   "source": [
    "mining_sites_utm.plot(column='vegetation', legend=True)\n",
    "plt.show()"
   ]
  }
 ],
 "metadata": {
  "kernelspec": {
   "display_name": "base",
   "language": "python",
   "name": "python3"
  },
  "language_info": {
   "codemirror_mode": {
    "name": "ipython",
    "version": 3
   },
   "file_extension": ".py",
   "mimetype": "text/x-python",
   "name": "python",
   "nbconvert_exporter": "python",
   "pygments_lexer": "ipython3",
   "version": "3.9.13"
  },
  "orig_nbformat": 4
 },
 "nbformat": 4,
 "nbformat_minor": 2
}
